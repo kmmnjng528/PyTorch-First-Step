{
 "cells": [
  {
   "cell_type": "markdown",
   "metadata": {},
   "source": [
    "# <center>『 파이토치 첫걸음 』</center>"
   ]
  },
  {
   "cell_type": "markdown",
   "metadata": {},
   "source": [
    "<img src=\"https://www.hanbit.co.kr/data/books/B7818450418_l.jpg\" width=30%>"
   ]
  },
  {
   "cell_type": "markdown",
   "metadata": {},
   "source": [
    "---"
   ]
  },
  {
   "cell_type": "markdown",
   "metadata": {},
   "source": [
    "# 4장. 인공 신경망"
   ]
  },
  {
   "cell_type": "markdown",
   "metadata": {},
   "source": [
    "---"
   ]
  },
  {
   "cell_type": "markdown",
   "metadata": {
    "toc": true
   },
   "source": [
    "<h1>Table of Contents<span class=\"tocSkip\"></span></h1>\n",
    "<div class=\"toc\"><ul class=\"toc-item\"><li><span><a href=\"#신경망이란-무엇인가\" data-toc-modified-id=\"신경망이란-무엇인가-1\"><span class=\"toc-item-num\">1&nbsp;&nbsp;</span>신경망이란 무엇인가</a></span></li><li><span><a href=\"#인공-신경망의-요소\" data-toc-modified-id=\"인공-신경망의-요소-2\"><span class=\"toc-item-num\">2&nbsp;&nbsp;</span>인공 신경망의 요소</a></span></li><li><span><a href=\"#전파와-역전파\" data-toc-modified-id=\"전파와-역전파-3\"><span class=\"toc-item-num\">3&nbsp;&nbsp;</span>전파와 역전파</a></span></li><li><span><a href=\"#모델-구현,-학습-및-결과-확인\" data-toc-modified-id=\"모델-구현,-학습-및-결과-확인-4\"><span class=\"toc-item-num\">4&nbsp;&nbsp;</span>모델 구현, 학습 및 결과 확인</a></span></li></ul></div>"
   ]
  },
  {
   "cell_type": "markdown",
   "metadata": {},
   "source": [
    "--- "
   ]
  },
  {
   "cell_type": "markdown",
   "metadata": {},
   "source": [
    "## 신경망이란 무엇인가"
   ]
  },
  {
   "cell_type": "markdown",
   "metadata": {},
   "source": [
    "<img src=\"https://t1.daumcdn.net/cfile/tistory/99EAB2505AE487821C\" width=80%>"
   ]
  },
  {
   "cell_type": "markdown",
   "metadata": {},
   "source": [
    "이번 장에서 배울 **인공 신경망**은 생물학적 신경망에서 영감을 얻어 만들어졌습니다. 먼저 **생물학적 신경망**을 간단히 설명하면 여러 자극이 가지돌기(dendrite)들을 통해 신경세포로 들어오고 어느 정도 이상의 자극이 들어오면 이를 축삭(axon)을 통해 다른 세포로 전달하는 구조라고 할 수 있습니다. 이러한 구조를 모방하여 만든 것이 **인공 신경망** 모델입니다. 여러 자극 혹은 입력이 들어오면 각각 가중치를 곱해 더해주고 추가적으로 편차도 더해줍니다. 이렇게 다 더한 값을 활성화 함수(activation)를 통해 변형하여 전달하는 단위를 인공 뉴런이라고 하고 이러한 뉴런들이 모인 네트워크를 인공 신경망이라고 합니다."
   ]
  },
  {
   "cell_type": "markdown",
   "metadata": {},
   "source": [
    "## 인공 신경망의 요소"
   ]
  },
  {
   "cell_type": "markdown",
   "metadata": {},
   "source": [
    "<img src=\"https://lh3.googleusercontent.com/proxy/M4uz7xDBmJODBFHryPKoTHMRl7gn98LhP9OF48m5BWqrvPQ3higUNERQTl4w5UE1elMWc0QL9lOvW-VoE8aCuFm3crJbBe-ObHx8NINZQ5UXAeUmrH73wTl2wiAfVsA2HodTNXXzVWXz8vyw76vmNFdpmk1cMauDUF6WJsfVw_aZ73Nz4-5EkD09lKf0T5YsytWLIoWRNuM3KZFP85s-Lq9MgIrYw8U3zUQWAGnOLeW6v2qGi76bXXM97T_uWQ_Hcl7cGoAq7G8sBCrrmqgXaVYI4qiiQAj_6XOFrRwIXRMb7rASObyb\" width=60%>"
   ]
  },
  {
   "cell_type": "markdown",
   "metadata": {},
   "source": [
    "인공 신경망은 위의 그림처럼 여러 개의 입력값과 출력값을 가질 수 있으며 입력 단과 출력 단 사이의 은닉층(hidden layer)의 수에 따라 신경망과 심층 신경망으로 나뉩니다. 심층 신경망은 2개 이상의 은닉층을 가진 인공 신경망을 의미합니다. 하나의 셀에서와 마찬가지로 입력값들의 가중치 합을 활성화 함수에 통과시켜 변형시키고 이 과정을 반복적으로 진행하여 최종 결과값을 냅니다."
   ]
  },
  {
   "cell_type": "markdown",
   "metadata": {},
   "source": [
    "<img src=\"https://rasbt.github.io/mlxtend/user_guide/general_concepts/activation-functions_files/activation-functions.png\" width=50%)>"
   ]
  },
  {
   "cell_type": "markdown",
   "metadata": {},
   "source": [
    "활성화 함수를 거쳐 비선형성(nonlinearity)을 띠게 됩니다. 많이 사용되는 활성화 함수로는 **시그모이드**와 **하이퍼볼릭 탄젠트**가 있습니다. 두 함수는 모든 구간에서 미분이 가능하기 때문에 역전파를 하기에 유용하다는 특징을 가집니다. 한편 최근에는 **렐루** 함수가 많이 사용됩니다."
   ]
  },
  {
   "cell_type": "markdown",
   "metadata": {},
   "source": [
    "## 전파와 역전파"
   ]
  },
  {
   "cell_type": "markdown",
   "metadata": {},
   "source": [
    "인공 신경망은 입력값이 들어오면 여러 개의 은닉층을 순서대로 거쳐 결괏값을 내는데 이 과정을 **순전파(forward propagation)** 라고 합니다.\n",
    "<img src=\"http://postfiles8.naver.net/MjAyMDAzMTVfMjU5/MDAxNTg0MjEwNjIzODQ4.G5JhBYQZwRHV_gfPrCdc8Q634I7xjCT5N-N2GYToevQg.seFH49h6APGWE3TeA62cBARHxKBbzu-kiqc0gXA40qUg.PNG.jevida/031420_1830_Feedforward1.png?type=w580\" width=50%>"
   ]
  },
  {
   "cell_type": "markdown",
   "metadata": {},
   "source": [
    "결과와 정답의 차이로 계산된 손실을 연쇄법칙을 이용하여 입력 단까지 다시 전달하는 과정을 **역전파(backpropagation)** 라고 합니다.\n",
    "<img src=\"http://postfiles4.naver.net/MjAyMDAzMTVfMjA2/MDAxNTg0MjEwNjI2MDA3.IAUYfPTl34fxEvasRX4dnZxq9UV7oXy6Q7GOfpCFfP4g.BLFzFz11h9qsw5zD1FNBXpJrmy4JbvVs4Zdphqp75d0g.PNG.jevida/031420_1830_Feedforward2.png?type=w580\" width=50%>"
   ]
  },
  {
   "cell_type": "markdown",
   "metadata": {},
   "source": [
    "## 모델 구현, 학습 및 결과 확인"
   ]
  },
  {
   "cell_type": "markdown",
   "metadata": {},
   "source": [
    "그럼 파이토치 코드로 여태까지 배운 내용들을 어떻게 구현할 수 있는지 살펴보겠습니다. 3장과 다른 부분은 **데이터의 형태**와 **모델** 정도입니다. 선형회귀에서는 선형 데이터를 다뤘지만 이번에는 선형으로 표현할 수 없는 2차 함수의 형태를 가지는 데이터를 다뤄보겠습니다.  \n",
    "\n",
    "입력값 x가 들어오면 w * x + b 연산이 이루어지고 이후 활성화 함수를 통과함으로써 비선형성을 얻습니다. 연산의 결과는 또 다른 은닉층을 통과하고 최종적으로 1개의 결괏값이 나올 때까지 전파됩니다. 그렇게 나온 값 y hat은 정답 값인 y와 손실 함수에 따라 차이가 계산됩니다. 그러면 손실을 각 변수들로 미분하여 기울기를 구합니다.  \n",
    "\n",
    "사실 파이토치는 이 과정을 함수 하나만 호출하면 알아서 처리합니다. **loss.backward()** 한 줄이면 각 변수별 기울기를 모두 계산합니다."
   ]
  },
  {
   "cell_type": "code",
   "execution_count": 1,
   "metadata": {
    "ExecuteTime": {
     "end_time": "2021-02-26T11:57:35.304408Z",
     "start_time": "2021-02-26T11:57:33.744627Z"
    }
   },
   "outputs": [],
   "source": [
    "import torch\n",
    "import torch.nn as nn\n",
    "import torch.optim as optim\n",
    "import torch.nn.init as init\n",
    "\n",
    "from tqdm.notebook import tqdm\n",
    "import matplotlib.pyplot as plt"
   ]
  },
  {
   "cell_type": "code",
   "execution_count": 2,
   "metadata": {
    "ExecuteTime": {
     "end_time": "2021-02-26T11:57:35.321361Z",
     "start_time": "2021-02-26T11:57:35.307399Z"
    }
   },
   "outputs": [],
   "source": [
    "num_data = 1000\n",
    "num_epoch = 10000\n",
    "\n",
    "noise = init.normal_(torch.FloatTensor(num_data,1), std=1)\n",
    "x = init.uniform_(torch.Tensor(num_data,1), -15, 15)\n",
    "y = (x**2) + 3\n",
    "y_noise = y + noise"
   ]
  },
  {
   "cell_type": "code",
   "execution_count": 3,
   "metadata": {
    "ExecuteTime": {
     "end_time": "2021-02-26T11:57:35.341307Z",
     "start_time": "2021-02-26T11:57:35.325350Z"
    }
   },
   "outputs": [
    {
     "data": {
      "text/plain": [
       "(torch.Size([1000, 1]), torch.Size([1000, 1]))"
      ]
     },
     "execution_count": 3,
     "metadata": {},
     "output_type": "execute_result"
    }
   ],
   "source": [
    "x.shape, y_noise.shape"
   ]
  },
  {
   "cell_type": "markdown",
   "metadata": {},
   "source": [
    "**nn.Sequential 클래스**는 nn.Linear, nn.ReLU 같은 모듈들을 인수로 받아서 순서대로 정렬해놓고 입력값이 들어오면 이 순서대로 모듈을 실행하여 결괏값을 리턴합니다. 인공 신경망의 깊이가 길어질수록 하나하나 실행하는 것보다 이렇게 묶어서 연산하는 것이 더 편리하기 때문에 nn.Sequential 클래스를 사용하는 것이 좋습니다."
   ]
  },
  {
   "cell_type": "code",
   "execution_count": 4,
   "metadata": {
    "ExecuteTime": {
     "end_time": "2021-02-26T11:57:35.355269Z",
     "start_time": "2021-02-26T11:57:35.344303Z"
    }
   },
   "outputs": [],
   "source": [
    "model = nn.Sequential(\n",
    "    nn.Linear(1,6),\n",
    "    nn.ReLU(),\n",
    "    nn.Linear(6,10),\n",
    "    nn.ReLU(),\n",
    "    nn.Linear(10,6),\n",
    "    nn.ReLU(),\n",
    "    nn.Linear(6,1)\n",
    "    )"
   ]
  },
  {
   "cell_type": "code",
   "execution_count": 5,
   "metadata": {
    "ExecuteTime": {
     "end_time": "2021-02-26T11:57:35.370229Z",
     "start_time": "2021-02-26T11:57:35.357270Z"
    }
   },
   "outputs": [],
   "source": [
    "loss_func = nn.L1Loss()\n",
    "optimizer = optim.SGD(model.parameters(), lr=0.001)"
   ]
  },
  {
   "cell_type": "code",
   "execution_count": 6,
   "metadata": {
    "ExecuteTime": {
     "end_time": "2021-02-26T11:57:59.901791Z",
     "start_time": "2021-02-26T11:57:35.373222Z"
    }
   },
   "outputs": [
    {
     "data": {
      "application/vnd.jupyter.widget-view+json": {
       "model_id": "b84859182448404a975fe09b0daa1fd4",
       "version_major": 2,
       "version_minor": 0
      },
      "text/plain": [
       "  0%|          | 0/10000 [00:00<?, ?it/s]"
      ]
     },
     "metadata": {},
     "output_type": "display_data"
    },
    {
     "name": "stdout",
     "output_type": "stream",
     "text": [
      "Epoch 0's Loss: 77.38343811035156\n",
      "Epoch 500's Loss: 61.23855209350586\n",
      "Epoch 1000's Loss: 18.687923431396484\n",
      "Epoch 1500's Loss: 15.050408363342285\n",
      "Epoch 2000's Loss: 8.61989688873291\n",
      "Epoch 2500's Loss: 7.685335159301758\n",
      "Epoch 3000's Loss: 7.987249374389648\n",
      "Epoch 3500's Loss: 6.470241069793701\n",
      "Epoch 4000's Loss: 6.052487850189209\n",
      "Epoch 4500's Loss: 5.651180744171143\n",
      "Epoch 5000's Loss: 4.599978446960449\n",
      "Epoch 5500's Loss: 5.807641983032227\n",
      "Epoch 6000's Loss: 5.105344772338867\n",
      "Epoch 6500's Loss: 4.9527058601379395\n",
      "Epoch 7000's Loss: 4.860630989074707\n",
      "Epoch 7500's Loss: 4.937892436981201\n",
      "Epoch 8000's Loss: 4.924953460693359\n",
      "Epoch 8500's Loss: 5.139140605926514\n",
      "Epoch 9000's Loss: 4.945481300354004\n",
      "Epoch 9500's Loss: 4.778356075286865\n"
     ]
    }
   ],
   "source": [
    "loss_array = []\n",
    "\n",
    "for i in tqdm(range(num_epoch)):\n",
    "    optimizer.zero_grad()\n",
    "    output = model(x)\n",
    "    loss = loss_func(output, y_noise)\n",
    "    loss.backward() # 그래디언트 구하기\n",
    "    optimizer.step() # 업데이트\n",
    "    \n",
    "    loss_array.append(loss)\n",
    "    \n",
    "    if i % 500 == 0:\n",
    "        print(f'Epoch {i}\\'s Loss: {loss}')"
   ]
  },
  {
   "cell_type": "markdown",
   "metadata": {},
   "source": [
    "모델을 학습하면서 기록해둔 손실을 그래프로 그리는 코드입니다. epoch이 커짐에 따라 0에 가까워지는 것을 확인할 수 있습니다."
   ]
  },
  {
   "cell_type": "code",
   "execution_count": 7,
   "metadata": {
    "ExecuteTime": {
     "end_time": "2021-02-26T11:58:00.235128Z",
     "start_time": "2021-02-26T11:57:59.904785Z"
    }
   },
   "outputs": [
    {
     "data": {
      "image/png": "[encoded data removed]",
      "text/plain": [
       "<Figure size 432x288 with 1 Axes>"
      ]
     },
     "metadata": {
      "needs_background": "light"
     },
     "output_type": "display_data"
    }
   ],
   "source": [
    "plt.plot(loss_array)\n",
    "plt.grid(True)\n",
    "plt.show()"
   ]
  },
  {
   "cell_type": "markdown",
   "metadata": {},
   "source": [
    "파란 점은 노이즈를 추가한 데이터이며, 주황색 선은 학습한 모델을 통해 유추한 값을 의미합니다. 중간중간 꺾인 부분은 렐루 활성화 함수의 영향입니다."
   ]
  },
  {
   "cell_type": "code",
   "execution_count": 8,
   "metadata": {
    "ExecuteTime": {
     "end_time": "2021-02-26T11:58:00.596195Z",
     "start_time": "2021-02-26T11:58:00.243109Z"
    },
    "scrolled": false
   },
   "outputs": [
    {
     "data": {
      "image/png": "[encoded data removed]",
      "text/plain": [
       "<Figure size 864x576 with 1 Axes>"
      ]
     },
     "metadata": {
      "needs_background": "light"
     },
     "output_type": "display_data"
    }
   ],
   "source": [
    "plt.figure(figsize=(12,8))\n",
    "plt.scatter(x,y_noise,alpha=0.2)\n",
    "plt.scatter(x, model(x).detach().numpy(),s=3)\n",
    "plt.grid(True)\n",
    "plt.show()"
   ]
  }
 ],
 "metadata": {
  "kernelspec": {
   "display_name": "Python 3",
   "language": "python",
   "name": "python3"
  },
  "language_info": {
   "codemirror_mode": {
    "name": "ipython",
    "version": 3
   },
   "file_extension": ".py",
   "mimetype": "text/x-python",
   "name": "python",
   "nbconvert_exporter": "python",
   "pygments_lexer": "ipython3",
   "version": "3.7.9"
  },
  "latex_envs": {
   "LaTeX_envs_menu_present": true,
   "autoclose": false,
   "autocomplete": true,
   "bibliofile": "biblio.bib",
   "cite_by": "apalike",
   "current_citInitial": 1,
   "eqLabelWithNumbers": true,
   "eqNumInitial": 1,
   "hotkeys": {
    "equation": "Ctrl-E",
    "itemize": "Ctrl-I"
   },
   "labels_anchors": false,
   "latex_user_defs": false,
   "report_style_numbering": false,
   "user_envs_cfg": false
  },
  "toc": {
   "base_numbering": "1",
   "nav_menu": {},
   "number_sections": true,
   "sideBar": true,
   "skip_h1_title": true,
   "title_cell": "Table of Contents",
   "title_sidebar": "Contents",
   "toc_cell": true,
   "toc_position": {
    "height": "calc(100% - 180px)",
    "left": "10px",
    "top": "150px",
    "width": "168.476px"
   },
   "toc_section_display": true,
   "toc_window_display": true
  },
  "varInspector": {
   "cols": {
    "lenName": 16,
    "lenType": 16,
    "lenVar": 40
   },
   "kernels_config": {
    "python": {
     "delete_cmd_postfix": "",
     "delete_cmd_prefix": "del ",
     "library": "var_list.py",
     "varRefreshCmd": "print(var_dic_list())"
    },
    "r": {
     "delete_cmd_postfix": ") ",
     "delete_cmd_prefix": "rm(",
     "library": "var_list.r",
     "varRefreshCmd": "cat(var_dic_list()) "
    }
   },
   "types_to_exclude": [
    "module",
    "function",
    "builtin_function_or_method",
    "instance",
    "_Feature"
   ],
   "window_display": false
  }
 },
 "nbformat": 4,
 "nbformat_minor": 4
}
