{
 "cells": [
  {
   "cell_type": "markdown",
   "metadata": {
    "id": "E5VqtLyjH0zw"
   },
   "source": [
    "# <center>『 파이토치 첫걸음 』</center>"
   ]
  },
  {
   "cell_type": "markdown",
   "metadata": {
    "id": "Ok9CvuL3H0z9"
   },
   "source": [
    "<img src=\"https://www.hanbit.co.kr/data/books/B7818450418_l.jpg\" width=30%>"
   ]
  },
  {
   "cell_type": "markdown",
   "metadata": {
    "id": "jcFsfUIkH0z_"
   },
   "source": [
    "---"
   ]
  },
  {
   "cell_type": "markdown",
   "metadata": {
    "id": "Hn1yUjIfH00E"
   },
   "source": [
    "# 5장. 합성곱 신경망"
   ]
  },
  {
   "cell_type": "markdown",
   "metadata": {
    "id": "qA5AGx5RH00F"
   },
   "source": [
    "---"
   ]
  },
  {
   "cell_type": "markdown",
   "metadata": {
    "id": "7jrFr0m0H00F",
    "toc": true
   },
   "source": [
    "<h1>Table of Contents<span class=\"tocSkip\"></span></h1>\n",
    "<div class=\"toc\"><ul class=\"toc-item\"><li><span><a href=\"#합성곱-신경망의-발달-배경\" data-toc-modified-id=\"합성곱-신경망의-발달-배경-1\"><span class=\"toc-item-num\">1&nbsp;&nbsp;</span>합성곱 신경망의 발달 배경</a></span></li><li><span><a href=\"#합성곱-연산-과정\" data-toc-modified-id=\"합성곱-연산-과정-2\"><span class=\"toc-item-num\">2&nbsp;&nbsp;</span>합성곱 연산 과정</a></span></li><li><span><a href=\"#패딩과-풀링\" data-toc-modified-id=\"패딩과-풀링-3\"><span class=\"toc-item-num\">3&nbsp;&nbsp;</span>패딩과 풀링</a></span></li><li><span><a href=\"#모델의-3차원적-이해\" data-toc-modified-id=\"모델의-3차원적-이해-4\"><span class=\"toc-item-num\">4&nbsp;&nbsp;</span>모델의 3차원적 이해</a></span></li><li><span><a href=\"#소프트맥스-함수\" data-toc-modified-id=\"소프트맥스-함수-5\"><span class=\"toc-item-num\">5&nbsp;&nbsp;</span>소프트맥스 함수</a></span></li><li><span><a href=\"#모델-구현,-학습-및-결과-확인\" data-toc-modified-id=\"모델-구현,-학습-및-결과-확인-6\"><span class=\"toc-item-num\">6&nbsp;&nbsp;</span>모델 구현, 학습 및 결과 확인</a></span></li><li><span><a href=\"#유명한-모델들과-원리\" data-toc-modified-id=\"유명한-모델들과-원리-7\"><span class=\"toc-item-num\">7&nbsp;&nbsp;</span>유명한 모델들과 원리</a></span><ul class=\"toc-item\"><li><span><a href=\"#VGGNet\" data-toc-modified-id=\"VGGNet-7.1\"><span class=\"toc-item-num\">7.1&nbsp;&nbsp;</span>VGGNet</a></span></li><li><span><a href=\"#GoogLeNet\" data-toc-modified-id=\"GoogLeNet-7.2\"><span class=\"toc-item-num\">7.2&nbsp;&nbsp;</span>GoogLeNet</a></span></li><li><span><a href=\"#ResNet\" data-toc-modified-id=\"ResNet-7.3\"><span class=\"toc-item-num\">7.3&nbsp;&nbsp;</span>ResNet</a></span></li></ul></li></ul></div>"
   ]
  },
  {
   "cell_type": "markdown",
   "metadata": {
    "id": "2o2iLjK3H00H"
   },
   "source": [
    "--- "
   ]
  },
  {
   "cell_type": "markdown",
   "metadata": {
    "id": "6UL78lUUH00H"
   },
   "source": [
    "## 합성곱 신경망의 발달 배경"
   ]
  },
  {
   "cell_type": "markdown",
   "metadata": {
    "id": "fu_R4HcOH00I"
   },
   "source": [
    "이론상으로 인공 신경망은 실수 공간에서 연속하는 모든 함수를 근사할 수 있다고 합니다. 하지만 무한히 많은 뉴런을 사용하는 네트워크는 만들 수도 없고 만들더라도 학습 과정에서 여러 문제가 있을 것입니다. 4장에서 배웠던 인공 신경망 모델을 사용하여 이미지 데이터에 적용해보면 사실 성능이 그렇게 잘 나오지 않는데 그 이유는 실제 예를 들어보면 쉽게 이해할 수 있습니다.  \n",
    "\n",
    "아래의 그림은 사람이 보기에 그냥 X와 기울어진 X입니다. 하지만 컴퓨터의 입장에서는 전혀 다른 값으로 인식됩니다. 이에 등장한 것이 바로 **합성곱 신경망(convolutional neural network, CNN)** 입니다. 합성곱 신경망에는, 국소적인 영역을 보고 단순한 패턴에 자극을 받는 **단순 세포**와 넓은 영역을 보고 복잡한 패턴에 자극을 받는 **복잡 세포**가 레이어(계층)를 이루고 있다는 관찰이 녹아들어 있습니다.\n",
    "<img src=\"https://img1.daumcdn.net/thumb/R1280x0/?scode=mtistory2&fname=https%3A%2F%2Fblog.kakaocdn.net%2Fdn%2FbJxlRR%2FbtqJ3iCtMNH%2FmtnSHOyioYZYxX22LIp18K%2Fimg.png\" width=70%>"
   ]
  },
  {
   "cell_type": "markdown",
   "metadata": {
    "id": "qWDsbWK-H00I"
   },
   "source": [
    "사실 왼쪽과 오른쪽의 이미지의 특징은 비슷합니다. 변형된 x라도 이러한 **이미지의 특징**을 뽑아 훈련시켜 반펼할 수 있는 것이 바로 CNN입니다.\n",
    "<img src=\"https://img1.daumcdn.net/thumb/R1280x0/?scode=mtistory2&fname=https%3A%2F%2Fblog.kakaocdn.net%2Fdn%2FdBkTqI%2FbtqJV6jqPwb%2Fe8HXRVizsckvrT7tTKK4oK%2Fimg.png\" width=70%>"
   ]
  },
  {
   "cell_type": "markdown",
   "metadata": {
    "id": "6G6Ev1wLH00J"
   },
   "source": [
    "## 합성곱 연산 과정"
   ]
  },
  {
   "cell_type": "markdown",
   "metadata": {
    "id": "d_4oUY0bH00K"
   },
   "source": [
    "**합성곱 신경망**에서는 하나의 함수가 다른 함수와 얼마나 일치하는가의 의미로 사용됩니다. 필터(커널)가 이미지를 쭉 지나가면서 이미지의 부분 부분이 필터와 얼마나 일치하는지 계산합니다. 결과 부분에서 1.00에 해당하는 부분들이 바로 필터와 이미지가 완벽히 일치하는 부분들입니다.\n",
    "<img src=\"https://img1.daumcdn.net/thumb/R1280x0/?scode=mtistory2&fname=https%3A%2F%2Fblog.kakaocdn.net%2Fdn%2FbAkXCV%2FbtqJWrHEnZl%2Fl9GLhleJTB73PatifgoNKk%2Fimg.png\" width=70%>"
   ]
  },
  {
   "cell_type": "markdown",
   "metadata": {
    "id": "UEkS9esFH00K"
   },
   "source": [
    "합성곱 신경망 역시 신경망이기 때문에 4장에서 배운 인공 신경망의 형태로도 연산을 표현할 수 있습니다. 즉, 합성곱 연산도 인공 신경망의 일종이라고 볼 수 있습니다. 대신 **1) 하나의 결괏값이 생성될 때 입력값 전체가 들어가지 않고 필터가 지나가는 부분만 연산에 포함된다는 점**과, **2) 하나의 이미지에 같은 필터를 연달아 적용하기 때문에 가중치가 공유되어 기본 인공 신경망보다 학습의 대상이 되는 변수가 적다는 점**이 차이점이라고 할 수 있습니다."
   ]
  },
  {
   "cell_type": "markdown",
   "metadata": {
    "id": "CR1Hl_qbH00L"
   },
   "source": [
    "이처럼 합성곱 연산도 입력과 가중치의 조합으로 이루어진 연산이기 때문에 비선형성을 추가하기 위해서는 활성화 함수가 필요합니다. 자주 사용하는 렐루(ReLU) 함수가 어떤 특징을 가지고 있는지 알아보겠습니다. 렐루 함수에는 여러 종류가 있는데 크게 다음과 같이 세 가지 정도로 나눌 수 있습니다.  \n",
    "\n",
    "<img src=\"https://www.hanbit.co.kr/data/editor/20190619113453_owvzvdfa.jpg\">\n",
    "\n",
    "- 기본 렐루 함수  \n",
    "단순히 0 이하의 값이 들어오면 활성화 값을 0으로 맞추고 그 이상의 값이 들어오면 값을 그대로 전달합니다. 학습 속도가 빠른 장점이 있지만 어느 순간 큰 손실이 발생하여 가중치와 편차가 마이너스로 떨어지는 경우, 어떠한 입력이 들어와도 활성화 값이 0이 되는 다잉 뉴런(dying neuron) 이라는 현상이 일어나기도 합니다.\n",
    "- 리키 렐루 함수 & 랜덤 리키 렐루 함수  \n",
    "이러한 문제를 해결하기 위해 나온 렐루의 변형된 형태로 리키 렐루와 랜덤 리키 렐루 등이 있습니다.  \n",
    " **리키 렐루**는 상수 a에 작은 값을 설정함으로써 0 이하의 자극이 들어왔을 때도 활성화 값이 전달되게 합니다. **랜덤 리키 렐루**는 a의 값을 랜덤하게 지정하는 활성화 함수입니다."
   ]
  },
  {
   "cell_type": "markdown",
   "metadata": {
    "id": "46re4d6DH00L"
   },
   "source": [
    "## 패딩과 풀링"
   ]
  },
  {
   "cell_type": "markdown",
   "metadata": {
    "id": "JzDDulJYH00M"
   },
   "source": [
    "입력 이미지에 필터를 한 번 적용할 때마다 결과의 가로세로 크기가 줄어듭니다. 계속해서 줄어들게 되면 더 이상 필터를 적용할 수 없습니다. 이렇게 되면 인공 신경망 입장에서는 은닉층의 개수에 제한이 생기는 것과 같고 결과적으로 복잡한 패턴을 학습할 수 없게 됩니다. **합성곱 연산을 사용하되 더 깊은 신경망을 만들기 위해** 등장한 것이 **페딩(padding)** 입니다. 일정한 크기의 층으로 이미지를 감싸는 것을 의미합니다.\n",
    "<img src=\"https://img1.daumcdn.net/thumb/R1280x0/?scode=mtistory2&fname=https%3A%2F%2Fblog.kakaocdn.net%2Fdn%2FbjFOy8%2FbtqJWSZlWyy%2FAQyND6hfKkN26BO7dI87B1%2Fimg.png\" width=40%>\n",
    "위의 그림에서는 패딩 값을 0으로 주는 **제로 패딩(zero padding)**을 적용했는데 경우에 따라서는 원본 이미지의 경계선 값을 복사하거나 임의의 값을 패딩 값으로 적용할 수도 있습니다."
   ]
  },
  {
   "cell_type": "markdown",
   "metadata": {
    "id": "C86emEagH00N"
   },
   "source": [
    "**패딩**을 사용하는 대표적 이유는 **입력 이미지에서 충분한 특성을 뽑기 위함**이었습니다. 하지만 반대의 상황도 있을 수 있습니다. 입력 이미지가 엄청나게 큰 이미지라면 굳이 패딩을 적용하지 않아도 충분히 특성들을 뽑아낼 수 있고, 패딩 없이 여러 은닉층을 거쳐도 활성화 지도의 크기는 여전히 클 것입니다. 하지만 입력 이미지가 엄청나게 크다면 엄청난 연산이 필요합니다. 상황에 따라 엄청나게 높은 화질이 필요하지 않을 수도 있고, 좀 넓게 봐야 파악할 수 있는 특성도 있을 것입니다. 이럴 때 사용하는 것이 **풀링(pooling)** 입니다.\n",
    "<img src=\"https://img1.daumcdn.net/thumb/R1280x0/?scode=mtistory2&fname=https%3A%2F%2Fblog.kakaocdn.net%2Fdn%2FPFNRd%2FbtqJ4F5eBIF%2F7HljhwQ5YTUDjFjTB8S2G0%2Fimg.png\" width=70%>\n",
    "풀링은 다운샘플링 또는 서브샘플링의 일종으로, 합성곱 신경망에서는 크게 두 종류가 사용됩니다. 첫 번째는 **맥스 풀링(max pooling)** 으로, 일정 크기의 구간 내에서 가장 큰 값만을 전달하고 다른 정보는 버리는 방법입니다. 두 번째는 **평균 풀링(average pooling)** 입니다. 이는 일정 크기의 구간 내의 값들의 평균을 전달하는 방법입니다."
   ]
  },
  {
   "cell_type": "markdown",
   "metadata": {
    "id": "36nZtWe5H00N"
   },
   "source": [
    "합성곱 신경망의 일반적인 구조를 살펴보면 입력값에 대해 몇 번의 합성곱 연산을 활성화 함수와 함께 적용한 이후 풀링으로 전체 크기를 줄여주는 과정을 반복합니다.\n",
    "<img src=\"https://wikidocs.net/images/page/62306/convpooling.PNG\" width=70%>"
   ]
  },
  {
   "cell_type": "markdown",
   "metadata": {
    "id": "QTjo60gpH00O"
   },
   "source": [
    "## 모델의 3차원적 이해"
   ]
  },
  {
   "cell_type": "markdown",
   "metadata": {
    "id": "gG3wPsuhH00Q"
   },
   "source": [
    "합성곱 신경망을 더 쉽게 이해하려면 3차원적으로 생각해보는 것도 좋습니다. 입력 이미지를 컬러 이미지라고 가정하면 3개의 채널을 가지고 있으므로 여기에 3x3 필터를 적용한다는 것은 사실 3x3x3 필터를 적용한다는 의미입니다. 이 필터를 적용하면 1x1x1의 결과가 생성되고 필터 하나당 맵이 생성되기 때문에 필터를 16개 적용하면 가로x세로x16 짜리 결괏값이 생성됩니다.\n",
    "<img src=\"https://blog.kakaocdn.net/dn/cCAvoV/btqK6OueKDt/KxBicXhzshI5LCUXOJ2SNk/img.png\">"
   ]
  },
  {
   "cell_type": "markdown",
   "metadata": {
    "id": "3fUmXAmRH00Q"
   },
   "source": [
    "합성곱 연산을 하고 나면 활성화 함수를 통과하는 과정까지 몇 번 반복한 후에 풀링을 적용합니다. 이렇게 특성을 충분히 뽑아냈다고 판단되면 이제 **완전연결 레이어(fully connected layer)** 를 적용할 차례입니다. 가로x세로x채널 이었던 텐서를 한 줄로 쭉 펴면 가로x세로x채널의 길이를 가지는 하나의 벡터가 생성됩니다.\n",
    "<img src=\"https://encrypted-tbn0.gstatic.com/images?q=tbn:ANd9GcSyVg4sBQ_qCoVf-w_Y28PlsJ2wGqJHiAHY3g&usqp=CAU\" width=50%>"
   ]
  },
  {
   "cell_type": "markdown",
   "metadata": {
    "id": "pUzuOlmsH00R"
   },
   "source": [
    "## 소프트맥스 함수"
   ]
  },
  {
   "cell_type": "markdown",
   "metadata": {
    "id": "H4EzHAiVH00T"
   },
   "source": [
    "신경망의 결괏값을 확률로 바꿔줘야 하는데 이때 사용되는 방법이 **소프트맥스(softmax) 함수** 입니다.\n",
    "<img src=\"https://wikidocs.net/images/page/35476/softmax4_final.PNG\" width=70%>"
   ]
  },
  {
   "cell_type": "markdown",
   "metadata": {
    "id": "71EH07VmH00U"
   },
   "source": [
    "<img src=\"https://blog.kakaocdn.net/dn/9zXH7/btqzhLn3egF/P0XcR4FDGjx6CMuqzBdXjk/img.png\" width=40%>"
   ]
  },
  {
   "cell_type": "markdown",
   "metadata": {
    "id": "1lW5VlDlH00U"
   },
   "source": [
    "두 개의 확률 벡터는 어떤 기준으로 손실을 측정할 수 있을까요? 클래스를 구분하는 작업에서는 주로 **교차 엔트로피(cross entropy)** 손실 함수를 사용합니다. (p.69 ~ 71)"
   ]
  },
  {
   "cell_type": "markdown",
   "metadata": {
    "id": "mh_B2Wm5H00V"
   },
   "source": [
    "## 모델 구현, 학습 및 결과 확인"
   ]
  },
  {
   "cell_type": "markdown",
   "metadata": {
    "id": "j4oBAXIkH00V"
   },
   "source": [
    "지금부터는 간단한 합성곱 신경망을 구현해보겠습니다. 먼저 필요한 모듈을 불러오고 하이퍼파라미터를 설정하는 부분입니다."
   ]
  },
  {
   "cell_type": "code",
   "execution_count": 1,
   "metadata": {
    "ExecuteTime": {
     "end_time": "2021-02-27T06:06:47.367274Z",
     "start_time": "2021-02-27T06:06:47.361286Z"
    },
    "executionInfo": {
     "elapsed": 1004,
     "status": "ok",
     "timestamp": 1614406625729,
     "user": {
      "displayName": "김민정",
      "photoUrl": "https://lh3.googleusercontent.com/-rUIzX_rzLjY/AAAAAAAAAAI/AAAAAAAAAA0/qc_LXJsYmcg/s64/photo.jpg",
      "userId": "10678949360563191662"
     },
     "user_tz": -540
    },
    "id": "bkVKXUf6H00W"
   },
   "outputs": [],
   "source": [
    "import torch\n",
    "import torch.nn as nn\n",
    "import torch.optim as optim\n",
    "import torch.nn.init as init\n",
    "\n",
    "import torchvision.datasets as dset # 데이터를 읽어오는 역할\n",
    "import torchvision.transforms as transforms # 불러온 이미지를 필요에 따라 변환해주는 역할\n",
    "from torch.utils.data import DataLoader # 데이터를 배치 사이즈대로 묶어서 전달하거나 정렬, 셔플 등을 해주는 역할\n",
    "\n",
    "from tqdm.notebook import tqdm"
   ]
  },
  {
   "cell_type": "code",
   "execution_count": 2,
   "metadata": {
    "ExecuteTime": {
     "end_time": "2021-02-27T05:13:23.204345Z",
     "start_time": "2021-02-27T05:13:23.200350Z"
    },
    "executionInfo": {
     "elapsed": 988,
     "status": "ok",
     "timestamp": 1614406625737,
     "user": {
      "displayName": "김민정",
      "photoUrl": "https://lh3.googleusercontent.com/-rUIzX_rzLjY/AAAAAAAAAAI/AAAAAAAAAA0/qc_LXJsYmcg/s64/photo.jpg",
      "userId": "10678949360563191662"
     },
     "user_tz": -540
    },
    "id": "mAMik3CIH00Y"
   },
   "outputs": [],
   "source": [
    "batch_size = 256\n",
    "learning_rate = 0.0002\n",
    "num_epoch = 10"
   ]
  },
  {
   "cell_type": "code",
   "execution_count": 3,
   "metadata": {
    "ExecuteTime": {
     "end_time": "2021-02-27T05:13:33.120157Z",
     "start_time": "2021-02-27T05:13:33.056325Z"
    },
    "executionInfo": {
     "elapsed": 970,
     "status": "ok",
     "timestamp": 1614406625738,
     "user": {
      "displayName": "김민정",
      "photoUrl": "https://lh3.googleusercontent.com/-rUIzX_rzLjY/AAAAAAAAAAI/AAAAAAAAAA0/qc_LXJsYmcg/s64/photo.jpg",
      "userId": "10678949360563191662"
     },
     "user_tz": -540
    },
    "id": "Ojb00QxaH00Y"
   },
   "outputs": [],
   "source": [
    "# MNIST 데이터셋 불러오기 (datasets, transforms)\n",
    "mnist_train = dset.MNIST(\"./\", train=True, transform=transforms.ToTensor(),\n",
    "                        target_transform=None, download=True)\n",
    "mnist_test = dset.MNIST(\"./\", train=False, transform=transforms.ToTensor(),\n",
    "                        target_transform=None, download=True)\n",
    "\n",
    "# DataLoader\n",
    "train_loader = torch.utils.data.DataLoader(mnist_train, batch_size=batch_size,\n",
    "                                          shuffle=True, num_workers=2, drop_last=True)\n",
    "test_loader = torch.utils.data.DataLoader(mnist_test, batch_size=batch_size,\n",
    "                                          shuffle=True, num_workers=2, drop_last=True)"
   ]
  },
  {
   "cell_type": "markdown",
   "metadata": {
    "id": "5UxTA-BxH00a"
   },
   "source": [
    "이번에는 합성곱 신경망 모델로 넘어가보겠습니다."
   ]
  },
  {
   "cell_type": "code",
   "execution_count": 4,
   "metadata": {
    "ExecuteTime": {
     "end_time": "2021-02-27T06:08:03.856767Z",
     "start_time": "2021-02-27T06:08:03.848791Z"
    },
    "executionInfo": {
     "elapsed": 952,
     "status": "ok",
     "timestamp": 1614406625740,
     "user": {
      "displayName": "김민정",
      "photoUrl": "https://lh3.googleusercontent.com/-rUIzX_rzLjY/AAAAAAAAAAI/AAAAAAAAAA0/qc_LXJsYmcg/s64/photo.jpg",
      "userId": "10678949360563191662"
     },
     "user_tz": -540
    },
    "id": "jEFbHRNhH00b"
   },
   "outputs": [],
   "source": [
    "class CNN(nn.Module):\n",
    "    def __init__(self):\n",
    "        super(CNN, self).__init__()\n",
    "        self.layer = nn.Sequential(\n",
    "            nn.Conv2d(1,16,5),\n",
    "            nn.ReLU(),\n",
    "            nn.Conv2d(16,32,5),\n",
    "            nn.ReLU(),\n",
    "            nn.MaxPool2d(2,2),\n",
    "            nn.Conv2d(32,64,5),\n",
    "            nn.ReLU(),\n",
    "            nn.MaxPool2d(2,2)\n",
    "        )\n",
    "        self.fc_layer = nn.Sequential(\n",
    "            nn.Linear(64*3*3,100),\n",
    "            nn.ReLU(),\n",
    "            nn.Linear(100,10)\n",
    "        )\n",
    "    def forward(self,x):\n",
    "        out = self.layer(x)\n",
    "        out = out.view(batch_size,-1)\n",
    "        out = self.fc_layer(out)\n",
    "        return out"
   ]
  },
  {
   "cell_type": "markdown",
   "metadata": {
    "id": "bI6AC-hlH00c"
   },
   "source": [
    "<img src=\"https://blog.kakaocdn.net/dn/YAC1A/btqYB6CaJcn/crAsLiK1VHoKkrSOVNYlzK/img.png\">"
   ]
  },
  {
   "cell_type": "markdown",
   "metadata": {
    "id": "BSYC6HXGH00d"
   },
   "source": [
    "이제 지금까지 봤던 코드처럼 모델을 초기화하고 교차 엔트로피 손실 함수를 지정하겠습니다. 이전까지는 최적화 함수로 SGD를 사용했지만 여기에서는 새롭게 **Adam 알고리즘**을 사용하겠습니다."
   ]
  },
  {
   "cell_type": "code",
   "execution_count": 5,
   "metadata": {
    "ExecuteTime": {
     "end_time": "2021-02-27T06:08:05.046009Z",
     "start_time": "2021-02-27T06:08:05.034042Z"
    },
    "executionInfo": {
     "elapsed": 3799,
     "status": "ok",
     "timestamp": 1614406628603,
     "user": {
      "displayName": "김민정",
      "photoUrl": "https://lh3.googleusercontent.com/-rUIzX_rzLjY/AAAAAAAAAAI/AAAAAAAAAA0/qc_LXJsYmcg/s64/photo.jpg",
      "userId": "10678949360563191662"
     },
     "user_tz": -540
    },
    "id": "dXxzvk0aH00e"
   },
   "outputs": [],
   "source": [
    "device = torch.device(\"cuda:0\" if torch.cuda.is_available() else \"cpu\")\n",
    "model = CNN().to(device)\n",
    "loss_func = nn.CrossEntropyLoss()\n",
    "optimizer = torch.optim.Adam(model.parameters(), lr=learning_rate)"
   ]
  },
  {
   "cell_type": "markdown",
   "metadata": {
    "id": "7jdHLXkhH00f"
   },
   "source": [
    "그다음에는 익숙한 학습 진행 코드입니다. train_loader에서 image와 label 쌍을 batch_size만큼씩 받아와서 모델에 전달하고 손실을 계산하고 손실에 대한 경사하강법을 진행하여 모델을 업데이트 합니다."
   ]
  },
  {
   "cell_type": "code",
   "execution_count": 6,
   "metadata": {
    "ExecuteTime": {
     "start_time": "2021-02-27T06:08:15.700Z"
    },
    "colab": {
     "base_uri": "https://localhost:8080/",
     "height": 742,
     "referenced_widgets": [
      "bdad2583953144e1bc6724ee01cc82e1",
      "8f1e2a07aeda489e9b2c8938261f28e5",
      "d055235226564c1bb79e4e9f2a30931e",
      "bef5e2dcde624d4b82f1faf7e03e003e",
      "101134c5bc9244159e427ab4d20cd95f",
      "1e28c27e7e324153a6c44dd1de8392ad",
      "66e2ee3d21da4d30bdfe342ee8ee3930",
      "5e4f7852b1184395b0a2a50e923e5476",
      "d718c96b4b474525bc415b76a4485ae9",
      "e2c8362a3d0b410797eb38dfd9ee52e4",
      "cfe6d0ce4b114f9eb73effc53021b622",
      "bbf13e5e346b44bf8d77bef9f24f0a30",
      "419d154be284408b8552cdc8eaa54d80",
      "325cb4e49fed4cce8086e8b99d4d6335",
      "ef99dcffeace48d59ea5bfb3536aca3d",
      "455dfda8a806468da88c853d8e70e554",
      "87337cfef2fa4c12913aec3fa0ba9ce0",
      "55cc76a8dedf42968ae1d5432c45e7b1",
      "102e23df82ce4a6cab1f26095f1cd43c",
      "d29d6e20d635438bb682e4f36789020e",
      "af9fa20f160f435984398621c3feff66",
      "d576eaafd63d4c19a6b904dc7c24ce12",
      "a4887e7d61bc41e987c6fee6c548569d",
      "a49c980d7a294077a01245de833e881f",
      "7020474e3a624dfaa0c7911b6dc8b14a",
      "6e483e18fbcc4ff1ae945b2133b7a067",
      "fd6835af6de349f69990ba8e1291635a",
      "bb602917b904469ea147d6653aadfa12",
      "4f7e259c5d6b4989824dd7893a38421c",
      "20273edb68e649689061fd3ed0c91aab",
      "5f402d95371f4452a0eb0502381d60af",
      "37a622f3ba4f4e5da011704b83037249",
      "c818741273c24346a2416c083cb45fd9",
      "a10c744893b84476aaa35f69e349c938",
      "735a630c61864c8d875e3a4675c8eadb",
      "ab0e4999696944468a5efbac8f0e1ed1",
      "3cbdb1f94f02442eabc6696721cf51ee",
      "85ddebee54974c6dad1fbda40bd7788d",
      "eab7e28d98e742bc9b7795ba60497947",
      "1fb2ce7fb6624bba9591ad3ef79402b4",
      "01911e106fce4f9ab36342d4517a5dcc",
      "81ce72c82aee422791e4bb846a62bfaa",
      "0d289fc29cee4f3b962cd2fbd7fa86ca",
      "bf8a37cd067f426b8e0d22df0434a730",
      "cb2a2769fa3d431aa5abbd8076f012c8",
      "6063cae0d38c433fa33b8b1149e39852",
      "7f5e3132c4814eef85334de60894eea9",
      "af4b3002fd654dcc844b4e82875d9e84",
      "fd1b18256b474351823c6d7ef25204d6",
      "c50c40dd61694621ad4d77a17cd23e83",
      "c2e860f4c9274d69a24ac973450488ab",
      "890ee268056b42a09e20ffaa3b0b862d",
      "56bc9290b7e44f14a0a2424149237b02",
      "f8598dfb97374a40b7feafb0b0f4ddb4",
      "638c884ce47f4757b2c66b2f0feea6e0",
      "e2467ed82458495c89a56e36cceff1ab",
      "9e76d8908d8d4606a5b5fba73c84db93",
      "7c644b8ab8eb4b9aa0032f5dcd609aa8",
      "50f19fba391a4730919dbfb5bb522953",
      "d0fd425f427c413eaff62c5e22389cb3",
      "bea0894df1ad49adac15c0960c1293a5",
      "ff01358995dd47c49c0a0f613788d870",
      "1f1fd6bb8f3d458a93ca1441899f89cc",
      "0e5bbd408e87443d9a866a187d2c9f5e",
      "45f6ad2740304e8d97def7aa59281a32",
      "3f9e3ec3b5774fb7a806e74f342d1db5",
      "d7680cf89f204720ad41d16d1b5de5fa",
      "a1e61c6694a6408d9fb4e8f5b67ccc58",
      "dd52ad0c25bd4deabe5f833c9c8a7272",
      "ae742550109c43e9910f0718b6c90376",
      "b16346566b704574b6e95d1fae016943",
      "426538e53beb46209f878d39ea7c8404",
      "08ffbba48dc64c13952ea0dc8305d0e8",
      "782e3b462d2840adbbf92bf6c50a911b",
      "2f3e002c5dbb442a86cf968ff0c6480d",
      "72834bbcd21d4ddcbb09bca51936a4b8",
      "de65e5f3f5a141d686978d42ffee873b",
      "c1a7afb6e1454f5cbe1ddb5262160e43",
      "a5ae8cf303c14c08bd6989a55323aa18",
      "2ebb8d5e58504475b922f638bf4d216d",
      "25702225de574af78f510eefb085259e",
      "4bc77a54504e4ae68ace48bc8a8f866f",
      "6d0a306145fb49859d00d9d7a9b6fc57",
      "d71497e5556d4bb2a6af13bd553e7cba",
      "678a1b43cd894f3ea9e95bec09a83658",
      "9d1858d3956f482e95865083d5479c75",
      "6117324b531f4ed3af12ef4438070c64",
      "5947bf33267c4d81880bd1f5c8c39133"
     ]
    },
    "executionInfo": {
     "elapsed": 56570,
     "status": "ok",
     "timestamp": 1614406681391,
     "user": {
      "displayName": "김민정",
      "photoUrl": "https://lh3.googleusercontent.com/-rUIzX_rzLjY/AAAAAAAAAAI/AAAAAAAAAA0/qc_LXJsYmcg/s64/photo.jpg",
      "userId": "10678949360563191662"
     },
     "user_tz": -540
    },
    "id": "ClS_voDcH00h",
    "outputId": "9ade65df-be31-43dc-f32c-da99683ee693"
   },
   "outputs": [
    {
     "data": {
      "application/vnd.jupyter.widget-view+json": {
       "model_id": "bdad2583953144e1bc6724ee01cc82e1",
       "version_major": 2,
       "version_minor": 0
      },
      "text/plain": [
       "HBox(children=(FloatProgress(value=0.0, max=10.0), HTML(value='')))"
      ]
     },
     "metadata": {
      "tags": []
     },
     "output_type": "display_data"
    },
    {
     "data": {
      "application/vnd.jupyter.widget-view+json": {
       "model_id": "d718c96b4b474525bc415b76a4485ae9",
       "version_major": 2,
       "version_minor": 0
      },
      "text/plain": [
       "HBox(children=(FloatProgress(value=1.0, bar_style='info', max=1.0), HTML(value='')))"
      ]
     },
     "metadata": {
      "tags": []
     },
     "output_type": "display_data"
    },
    {
     "name": "stdout",
     "output_type": "stream",
     "text": [
      "tensor(2.3104, device='cuda:0', grad_fn=<NllLossBackward>)\n",
      "\n"
     ]
    },
    {
     "data": {
      "application/vnd.jupyter.widget-view+json": {
       "model_id": "87337cfef2fa4c12913aec3fa0ba9ce0",
       "version_major": 2,
       "version_minor": 0
      },
      "text/plain": [
       "HBox(children=(FloatProgress(value=1.0, bar_style='info', max=1.0), HTML(value='')))"
      ]
     },
     "metadata": {
      "tags": []
     },
     "output_type": "display_data"
    },
    {
     "name": "stdout",
     "output_type": "stream",
     "text": [
      "tensor(0.3541, device='cuda:0', grad_fn=<NllLossBackward>)\n",
      "\n"
     ]
    },
    {
     "data": {
      "application/vnd.jupyter.widget-view+json": {
       "model_id": "7020474e3a624dfaa0c7911b6dc8b14a",
       "version_major": 2,
       "version_minor": 0
      },
      "text/plain": [
       "HBox(children=(FloatProgress(value=1.0, bar_style='info', max=1.0), HTML(value='')))"
      ]
     },
     "metadata": {
      "tags": []
     },
     "output_type": "display_data"
    },
    {
     "name": "stdout",
     "output_type": "stream",
     "text": [
      "tensor(0.1197, device='cuda:0', grad_fn=<NllLossBackward>)\n",
      "\n"
     ]
    },
    {
     "data": {
      "application/vnd.jupyter.widget-view+json": {
       "model_id": "c818741273c24346a2416c083cb45fd9",
       "version_major": 2,
       "version_minor": 0
      },
      "text/plain": [
       "HBox(children=(FloatProgress(value=1.0, bar_style='info', max=1.0), HTML(value='')))"
      ]
     },
     "metadata": {
      "tags": []
     },
     "output_type": "display_data"
    },
    {
     "name": "stdout",
     "output_type": "stream",
     "text": [
      "tensor(0.1499, device='cuda:0', grad_fn=<NllLossBackward>)\n",
      "\n"
     ]
    },
    {
     "data": {
      "application/vnd.jupyter.widget-view+json": {
       "model_id": "01911e106fce4f9ab36342d4517a5dcc",
       "version_major": 2,
       "version_minor": 0
      },
      "text/plain": [
       "HBox(children=(FloatProgress(value=1.0, bar_style='info', max=1.0), HTML(value='')))"
      ]
     },
     "metadata": {
      "tags": []
     },
     "output_type": "display_data"
    },
    {
     "name": "stdout",
     "output_type": "stream",
     "text": [
      "tensor(0.0695, device='cuda:0', grad_fn=<NllLossBackward>)\n",
      "\n"
     ]
    },
    {
     "data": {
      "application/vnd.jupyter.widget-view+json": {
       "model_id": "fd1b18256b474351823c6d7ef25204d6",
       "version_major": 2,
       "version_minor": 0
      },
      "text/plain": [
       "HBox(children=(FloatProgress(value=1.0, bar_style='info', max=1.0), HTML(value='')))"
      ]
     },
     "metadata": {
      "tags": []
     },
     "output_type": "display_data"
    },
    {
     "name": "stdout",
     "output_type": "stream",
     "text": [
      "tensor(0.0413, device='cuda:0', grad_fn=<NllLossBackward>)\n",
      "\n"
     ]
    },
    {
     "data": {
      "application/vnd.jupyter.widget-view+json": {
       "model_id": "9e76d8908d8d4606a5b5fba73c84db93",
       "version_major": 2,
       "version_minor": 0
      },
      "text/plain": [
       "HBox(children=(FloatProgress(value=1.0, bar_style='info', max=1.0), HTML(value='')))"
      ]
     },
     "metadata": {
      "tags": []
     },
     "output_type": "display_data"
    },
    {
     "name": "stdout",
     "output_type": "stream",
     "text": [
      "tensor(0.0317, device='cuda:0', grad_fn=<NllLossBackward>)\n",
      "\n"
     ]
    },
    {
     "data": {
      "application/vnd.jupyter.widget-view+json": {
       "model_id": "45f6ad2740304e8d97def7aa59281a32",
       "version_major": 2,
       "version_minor": 0
      },
      "text/plain": [
       "HBox(children=(FloatProgress(value=1.0, bar_style='info', max=1.0), HTML(value='')))"
      ]
     },
     "metadata": {
      "tags": []
     },
     "output_type": "display_data"
    },
    {
     "name": "stdout",
     "output_type": "stream",
     "text": [
      "tensor(0.0149, device='cuda:0', grad_fn=<NllLossBackward>)\n",
      "\n"
     ]
    },
    {
     "data": {
      "application/vnd.jupyter.widget-view+json": {
       "model_id": "08ffbba48dc64c13952ea0dc8305d0e8",
       "version_major": 2,
       "version_minor": 0
      },
      "text/plain": [
       "HBox(children=(FloatProgress(value=1.0, bar_style='info', max=1.0), HTML(value='')))"
      ]
     },
     "metadata": {
      "tags": []
     },
     "output_type": "display_data"
    },
    {
     "name": "stdout",
     "output_type": "stream",
     "text": [
      "tensor(0.0310, device='cuda:0', grad_fn=<NllLossBackward>)\n",
      "\n"
     ]
    },
    {
     "data": {
      "application/vnd.jupyter.widget-view+json": {
       "model_id": "25702225de574af78f510eefb085259e",
       "version_major": 2,
       "version_minor": 0
      },
      "text/plain": [
       "HBox(children=(FloatProgress(value=1.0, bar_style='info', max=1.0), HTML(value='')))"
      ]
     },
     "metadata": {
      "tags": []
     },
     "output_type": "display_data"
    },
    {
     "name": "stdout",
     "output_type": "stream",
     "text": [
      "tensor(0.0499, device='cuda:0', grad_fn=<NllLossBackward>)\n",
      "\n",
      "\n"
     ]
    }
   ],
   "source": [
    "loss_arr = []\n",
    "for i in tqdm(range(num_epoch)):\n",
    "    for j,[image,label] in tqdm(enumerate(train_loader)):\n",
    "        x = image.to(device)\n",
    "        y_ = label.to(device)\n",
    "        \n",
    "        optimizer.zero_grad()\n",
    "        output = model.forward(x)\n",
    "        loss = loss_func(output, y_)\n",
    "        loss.backward()\n",
    "        optimizer.step()\n",
    "        \n",
    "        if j % 1000 == 0:\n",
    "            print(loss)\n",
    "            loss_arr.append(loss.cpu().detach().numpy())"
   ]
  },
  {
   "cell_type": "markdown",
   "metadata": {
    "id": "NmzDWVCDH00n"
   },
   "source": [
    "마지막 부분은 학습된 모델을 테스트 데이터에 대해 검증해보는 부분입니다."
   ]
  },
  {
   "cell_type": "code",
   "execution_count": 7,
   "metadata": {
    "colab": {
     "base_uri": "https://localhost:8080/"
    },
    "executionInfo": {
     "elapsed": 57480,
     "status": "ok",
     "timestamp": 1614406682319,
     "user": {
      "displayName": "김민정",
      "photoUrl": "https://lh3.googleusercontent.com/-rUIzX_rzLjY/AAAAAAAAAAI/AAAAAAAAAA0/qc_LXJsYmcg/s64/photo.jpg",
      "userId": "10678949360563191662"
     },
     "user_tz": -540
    },
    "id": "vjVU0SvkH00o",
    "outputId": "1aba8db9-4849-481d-dc52-a8289f53781a"
   },
   "outputs": [
    {
     "name": "stdout",
     "output_type": "stream",
     "text": [
      "Accuracy of Test Data: 98.75801086425781\n"
     ]
    }
   ],
   "source": [
    "correct = 0\n",
    "total = 0\n",
    "\n",
    "with torch.no_grad(): # 기울기를 계산하지 않음\n",
    "    for image,label in test_loader:\n",
    "        x = image.to(device)\n",
    "        y_ = label.to(device)\n",
    "        \n",
    "        output = model.forward(x)\n",
    "        _, output_index = torch.max(output,1) # 최댓값과 그 인덱스를 구함\n",
    "        \n",
    "        total += label.size(0)\n",
    "        correct += (output_index == y_).sum().float() # 예측 라벨과 실제 라벨이 동일하면 더해줌\n",
    "        \n",
    "    print(\"Accuracy of Test Data: {}\".format(100*correct/total))"
   ]
  },
  {
   "cell_type": "markdown",
   "metadata": {
    "id": "bs89Fd7wH00p"
   },
   "source": [
    "## 유명한 모델들과 원리"
   ]
  },
  {
   "cell_type": "markdown",
   "metadata": {},
   "source": [
    "기본적인 합성곱 인공 신경망을 알아보았으니 이번에는 이미지넷 대회에서 좋은 성적을 거뒀던 모델들 위주로 합성곱 인공 신경망 형태의 발전에 대해 알아보겠습니다. 대회는 분류 문제에 대한 정확도에 따라 평가했기 때문에 이에 대한 정확도를 높이는 방식으로 발전되었지만 그 과정에서 나온 아이디어들은 세그멘테이션이나 디텍션 같은 분야에서도 유효하다는 것이 많은 논문에서 증명되었습니다. 다음 그림은 2010년부터 2015년까지의 정확도의 변화입니다.\n",
    "\n",
    "<img src=\"https://lh3.googleusercontent.com/proxy/EoqF0S_jZTXFMKm7oMQosu5mXW2YL305SbJYtWvHb07vcR-bFRFpOAxcJTfpwrAN8lkdDyMme_GiVDJQoM5usryK-L7BPJQDtz7q2vBN6im5NTFg4Pw3_FrfP1-QMPJA8vqO2dwQvT9j9JN15ayrvYHPGDk2XsvFiynMYrsyaxpUMcR5ES0WF7s0rSbRNVBekRO4lFQXTECzsUVMPUWvCmdJUtSP2F4pxB-hCanGIDS2Wk-YR4QYK44H_EjcCt77QRLXoj6x7f8QY8V2QEPJaIpNtA\">"
   ]
  },
  {
   "cell_type": "markdown",
   "metadata": {
    "executionInfo": {
     "elapsed": 57463,
     "status": "ok",
     "timestamp": 1614406682321,
     "user": {
      "displayName": "김민정",
      "photoUrl": "https://lh3.googleusercontent.com/-rUIzX_rzLjY/AAAAAAAAAAI/AAAAAAAAAA0/qc_LXJsYmcg/s64/photo.jpg",
      "userId": "10678949360563191662"
     },
     "user_tz": -540
    },
    "id": "LMtXQALdH00p"
   },
   "source": [
    "### VGGNet"
   ]
  },
  {
   "cell_type": "markdown",
   "metadata": {},
   "source": [
    "**VGGNet**은 신경망의 깊이가 모델의 성능에 미치는 영향을 조사하기 위해 해당 연구를 시작하며 만들어진 모델입니다. 깊이의 영향만을 파악하기 위해 상당히 단순한 연산만을 가지고 모델을 구성했습니다. 따라서 3x3 합성곱, 맥스 풀링, 완전연결 네트워크 세 가지 연산만을 가지고 모델을 구성했습니다.  \n",
    "필터의 크기가 3, 필터의 수가 64개이며 패딩은 1입니다. 합성곱 연산이 2번 반복되는 부분이 2개, 3번 반복되는 부분이 3개 입니다.\n",
    "<img src=\"https://blog.kakaocdn.net/dn/K990l/btqwDJ7C54R/664Ksm6gyTGBR1wK3YPDFk/img.png\" width=60%>"
   ]
  },
  {
   "cell_type": "markdown",
   "metadata": {},
   "source": [
    "### GoogLeNet"
   ]
  },
  {
   "cell_type": "markdown",
   "metadata": {},
   "source": [
    "**GoogLeNet**은 **인셉션 모듈(Inception module)** 이라는 블록을 가지고 있어서 인셉션 네트워크라고도 불립니다.\n",
    "<img src=\"https://img1.daumcdn.net/thumb/R720x0.q80/?scode=mtistory2&fname=http%3A%2F%2Fcfile21.uf.tistory.com%2Fimage%2F9925D6445CF6974706C6C3\" width=100%>\n",
    "\n",
    "빨간색 블록에서 시작해서 여러 갈래로 갈라졌다 모이는 부분이 바로 인셉션 모듈에 해당합니다."
   ]
  },
  {
   "cell_type": "markdown",
   "metadata": {},
   "source": [
    "<img src=\"https://norman3.github.io/papers/images/google_inception/f01.png\">\n",
    "\n",
    "(a)에서 볼 수 있듯이 인셉션 모듈은 이전 단계의 활성화 지도에 다양한 필터 크기로 합성곱 연산을 적용합니다. 합성곱 연산은 입력값과 필터가 얼마나 일치하는지를 수치화하는데, 필터들의 크기가 다르다는 것은 각각 다른 연산 범위를 갖는다는 것입니다. 예를 들어 숲에서 나무를 찾을 때의 관점과 나무에서 나뭇잎을 찾는 관점이 다른 것을 생각해보면 이해가 쉽습니다. 나무와 나뭇잎의 크기가 다르기 때문에 각각에 맞는 크기의 필터를 적용해야 하는 것처럼, 활성화 지도에서 서로 다른 크기의 특징들을 뽑아내기 위해서 3x3 필터, 5x5 필터, 3x3 맥스 풀링 연산을 적용한다고 볼 수 있습니다.  \n",
    "  \n",
    "\n",
    "(b)를 보면 각각의 연산에 1x1 합성곱이 추가된 것을 볼 수 있습니다. 이는 (a) 모듈을 사용할 때 너무 많은 메모리를 사용한다는 단점을 극복하기 위해 도입된 것입니다. 1x1 합성곱은 입력 채널과 결과 채널간의 완전연결 네트워크라고 볼 수 있습니다.\n",
    "<img src=\"https://img1.daumcdn.net/thumb/R1280x0/?scode=mtistory2&fname=https%3A%2F%2Fblog.kakaocdn.net%2Fdn%2FKqguG%2FbtqAyyU6Dlp%2F4k2pZ9IiJeZT3lB0KBotgK%2Fimg.png\" width=80%>\n",
    "\n",
    "그렇다면 1x1 합성곱이 어떻게 메모리를 적게 쓰도록 만들까요? 기초적인 인셉션 모듈 (a)가 128개 채널에서 256개 채널로 늘어나는 연산이었다면 (b)는 128개의 채널을 1x1 합성곱을 통해 32개로 줄이고 다시 합성곱 연산을 통해 이를 256개의 채널로 늘립니다. 이렇게 되면 기존 연산보다 메모리 사용을 줄일 수 있습니다."
   ]
  },
  {
   "cell_type": "markdown",
   "metadata": {},
   "source": [
    "마지막으로 GoogLeNet의 구조를 보면 보조 분류기(auxiliary classifier)가 반복적으로 사용되는 것을 확인할 수 있습니다. 많은 모델은 대부분 마지막 부분에만 분류기가 있지만 인셉션 네트워크는 중간중간에 보조 분류기를 두었습니다. 보조 분류기는 모델이 깊어지면서 마지막 단의 분류 네트워크에서 발생한 손실이 모델의 입력 부분까지 전달이 안 되는 현상을 극복하기 위해 사용되었습니다. 즉 학습을 보조하는 역할로 학습 이후 테스트 시에는 사용되지 않습니다."
   ]
  },
  {
   "cell_type": "markdown",
   "metadata": {},
   "source": [
    "### ResNet"
   ]
  },
  {
   "cell_type": "markdown",
   "metadata": {},
   "source": [
    "<img src=\"https://miro.medium.com/max/6652/1*OFfO8VzLv8GNFNRKafvB7w.png\">"
   ]
  },
  {
   "cell_type": "markdown",
   "metadata": {},
   "source": [
    "**ResNet**은 네트워크를 얼마나 깊이 쌓을 수 있을까라는 의문에서 시작되었고, 일정 수준 이상의 깊이가 되면 오히려 얕은 모델보다 깊은 모델의 성능이 더 떨어진다는 점을 발견했습니다. 그래서 이 문제를 해결할 방법으로 **잔차 학습(residual learning)** 이란 방법을 제시했고 이를 구현한 ResNet으로 2015년도 이미지넷 대회에서 우승했습니다."
   ]
  },
  {
   "cell_type": "markdown",
   "metadata": {},
   "source": [
    "<img src=\"https://miro.medium.com/max/2412/1*DAjR8K-4Xit3wJk2eG3dHg.png\" width=30%>"
   ]
  },
  {
   "cell_type": "markdown",
   "metadata": {},
   "source": [
    "특정 위치에서 입력이 들어왔을 때 합성곱 연산을 통과한 결과와 입력으로 들어온 결과 두 가지를 더해서 다음 레이어에 전달하는 게 ResNet의 핵심입니다. 이전 단계에서 뽑았던 특성들을 변형시키지 않고 그대로 더해서 전달하기 때문에 입력 단에 가까운 곳에서 뽑은 단순한 특성과 뒷부분에서 뽑은 복잡한 특성 모두를 사용한다는 장점을 가지고 있습니다. 또한 보조 분류기가 필요하지 않습니다.  \n",
    "\n",
    "<img src=\"https://t1.daumcdn.net/cfile/tistory/9907E0375CB8A11F0F\" width=60%>\n",
    "\n",
    "GoogLeNet처럼 1x1 합성곱을 활용했습니다. 다만 조금 다른 형태로 적용했고 여기에 보틀넥(병목, bottleneck)이라는 이름을 붙였습니다. 보틀넥 블록은 먼저 1x1 합성곱으로 채널 방향 압축을 합니다. 그리고 이 압축된 상태에서 3x3 합성곱으로 추가 특성을 뽑아내고 다시 1x1 합성곱을 사용해 채널의 수를 늘려줍니다. 이렇게 함으로써 변수 수를 줄이면서도 원하는 개수의 특성을 뽑을 수 있도록 했습니다."
   ]
  }
 ],
 "metadata": {
  "accelerator": "GPU",
  "colab": {
   "collapsed_sections": [],
   "name": "5장_합성곱 신경망.ipynb",
   "provenance": [],
   "toc_visible": true
  },
  "kernelspec": {
   "display_name": "Python 3",
   "language": "python",
   "name": "python3"
  },
  "language_info": {
   "codemirror_mode": {
    "name": "ipython",
    "version": 3
   },
   "file_extension": ".py",
   "mimetype": "text/x-python",
   "name": "python",
   "nbconvert_exporter": "python",
   "pygments_lexer": "ipython3",
   "version": "3.7.9"
  },
  "latex_envs": {
   "LaTeX_envs_menu_present": true,
   "autoclose": false,
   "autocomplete": true,
   "bibliofile": "biblio.bib",
   "cite_by": "apalike",
   "current_citInitial": 1,
   "eqLabelWithNumbers": true,
   "eqNumInitial": 1,
   "hotkeys": {
    "equation": "Ctrl-E",
    "itemize": "Ctrl-I"
   },
   "labels_anchors": false,
   "latex_user_defs": false,
   "report_style_numbering": false,
   "user_envs_cfg": false
  },
  "toc": {
   "base_numbering": "1",
   "nav_menu": {},
   "number_sections": true,
   "sideBar": true,
   "skip_h1_title": true,
   "title_cell": "Table of Contents",
   "title_sidebar": "Contents",
   "toc_cell": true,
   "toc_position": {
    "height": "calc(100% - 180px)",
    "left": "10px",
    "top": "150px",
    "width": "168.457px"
   },
   "toc_section_display": true,
   "toc_window_display": true
  },
  "varInspector": {
   "cols": {
    "lenName": 16,
    "lenType": 16,
    "lenVar": 40
   },
   "kernels_config": {
    "python": {
     "delete_cmd_postfix": "",
     "delete_cmd_prefix": "del ",
     "library": "var_list.py",
     "varRefreshCmd": "print(var_dic_list())"
    },
    "r": {
     "delete_cmd_postfix": ") ",
     "delete_cmd_prefix": "rm(",
     "library": "var_list.r",
     "varRefreshCmd": "cat(var_dic_list()) "
    }
   },
   "types_to_exclude": [
    "module",
    "function",
    "builtin_function_or_method",
    "instance",
    "_Feature"
   ],
   "window_display": false
  },
  "widgets": {
   "application/vnd.jupyter.widget-state+json": {
    "01911e106fce4f9ab36342d4517a5dcc": {
     "model_module": "@jupyter-widgets/controls",
     "model_name": "HBoxModel",
     "state": {
      "_dom_classes": [],
      "_model_module": "@jupyter-widgets/controls",
      "_model_module_version": "1.5.0",
      "_model_name": "HBoxModel",
      "_view_count": null,
      "_view_module": "@jupyter-widgets/controls",
      "_view_module_version": "1.5.0",
      "_view_name": "HBoxView",
      "box_style": "",
      "children": [
       "IPY_MODEL_0d289fc29cee4f3b962cd2fbd7fa86ca",
       "IPY_MODEL_bf8a37cd067f426b8e0d22df0434a730"
      ],
      "layout": "IPY_MODEL_81ce72c82aee422791e4bb846a62bfaa"
     }
    },
    "08ffbba48dc64c13952ea0dc8305d0e8": {
     "model_module": "@jupyter-widgets/controls",
     "model_name": "HBoxModel",
     "state": {
      "_dom_classes": [],
      "_model_module": "@jupyter-widgets/controls",
      "_model_module_version": "1.5.0",
      "_model_name": "HBoxModel",
      "_view_count": null,
      "_view_module": "@jupyter-widgets/controls",
      "_view_module_version": "1.5.0",
      "_view_name": "HBoxView",
      "box_style": "",
      "children": [
       "IPY_MODEL_2f3e002c5dbb442a86cf968ff0c6480d",
       "IPY_MODEL_72834bbcd21d4ddcbb09bca51936a4b8"
      ],
      "layout": "IPY_MODEL_782e3b462d2840adbbf92bf6c50a911b"
     }
    },
    "0d289fc29cee4f3b962cd2fbd7fa86ca": {
     "model_module": "@jupyter-widgets/controls",
     "model_name": "FloatProgressModel",
     "state": {
      "_dom_classes": [],
      "_model_module": "@jupyter-widgets/controls",
      "_model_module_version": "1.5.0",
      "_model_name": "FloatProgressModel",
      "_view_count": null,
      "_view_module": "@jupyter-widgets/controls",
      "_view_module_version": "1.5.0",
      "_view_name": "ProgressView",
      "bar_style": "success",
      "description": "",
      "description_tooltip": null,
      "layout": "IPY_MODEL_6063cae0d38c433fa33b8b1149e39852",
      "max": 1,
      "min": 0,
      "orientation": "horizontal",
      "style": "IPY_MODEL_cb2a2769fa3d431aa5abbd8076f012c8",
      "value": 1
     }
    },
    "0e5bbd408e87443d9a866a187d2c9f5e": {
     "model_module": "@jupyter-widgets/base",
     "model_name": "LayoutModel",
     "state": {
      "_model_module": "@jupyter-widgets/base",
      "_model_module_version": "1.2.0",
      "_model_name": "LayoutModel",
      "_view_count": null,
      "_view_module": "@jupyter-widgets/base",
      "_view_module_version": "1.2.0",
      "_view_name": "LayoutView",
      "align_content": null,
      "align_items": null,
      "align_self": null,
      "border": null,
      "bottom": null,
      "display": null,
      "flex": null,
      "flex_flow": null,
      "grid_area": null,
      "grid_auto_columns": null,
      "grid_auto_flow": null,
      "grid_auto_rows": null,
      "grid_column": null,
      "grid_gap": null,
      "grid_row": null,
      "grid_template_areas": null,
      "grid_template_columns": null,
      "grid_template_rows": null,
      "height": null,
      "justify_content": null,
      "justify_items": null,
      "left": null,
      "margin": null,
      "max_height": null,
      "max_width": null,
      "min_height": null,
      "min_width": null,
      "object_fit": null,
      "object_position": null,
      "order": null,
      "overflow": null,
      "overflow_x": null,
      "overflow_y": null,
      "padding": null,
      "right": null,
      "top": null,
      "visibility": null,
      "width": null
     }
    },
    "101134c5bc9244159e427ab4d20cd95f": {
     "model_module": "@jupyter-widgets/controls",
     "model_name": "ProgressStyleModel",
     "state": {
      "_model_module": "@jupyter-widgets/controls",
      "_model_module_version": "1.5.0",
      "_model_name": "ProgressStyleModel",
      "_view_count": null,
      "_view_module": "@jupyter-widgets/base",
      "_view_module_version": "1.2.0",
      "_view_name": "StyleView",
      "bar_color": null,
      "description_width": "initial"
     }
    },
    "102e23df82ce4a6cab1f26095f1cd43c": {
     "model_module": "@jupyter-widgets/controls",
     "model_name": "FloatProgressModel",
     "state": {
      "_dom_classes": [],
      "_model_module": "@jupyter-widgets/controls",
      "_model_module_version": "1.5.0",
      "_model_name": "FloatProgressModel",
      "_view_count": null,
      "_view_module": "@jupyter-widgets/controls",
      "_view_module_version": "1.5.0",
      "_view_name": "ProgressView",
      "bar_style": "success",
      "description": "",
      "description_tooltip": null,
      "layout": "IPY_MODEL_d576eaafd63d4c19a6b904dc7c24ce12",
      "max": 1,
      "min": 0,
      "orientation": "horizontal",
      "style": "IPY_MODEL_af9fa20f160f435984398621c3feff66",
      "value": 1
     }
    },
    "1e28c27e7e324153a6c44dd1de8392ad": {
     "model_module": "@jupyter-widgets/base",
     "model_name": "LayoutModel",
     "state": {
      "_model_module": "@jupyter-widgets/base",
      "_model_module_version": "1.2.0",
      "_model_name": "LayoutModel",
      "_view_count": null,
      "_view_module": "@jupyter-widgets/base",
      "_view_module_version": "1.2.0",
      "_view_name": "LayoutView",
      "align_content": null,
      "align_items": null,
      "align_self": null,
      "border": null,
      "bottom": null,
      "display": null,
      "flex": null,
      "flex_flow": null,
      "grid_area": null,
      "grid_auto_columns": null,
      "grid_auto_flow": null,
      "grid_auto_rows": null,
      "grid_column": null,
      "grid_gap": null,
      "grid_row": null,
      "grid_template_areas": null,
      "grid_template_columns": null,
      "grid_template_rows": null,
      "height": null,
      "justify_content": null,
      "justify_items": null,
      "left": null,
      "margin": null,
      "max_height": null,
      "max_width": null,
      "min_height": null,
      "min_width": null,
      "object_fit": null,
      "object_position": null,
      "order": null,
      "overflow": null,
      "overflow_x": null,
      "overflow_y": null,
      "padding": null,
      "right": null,
      "top": null,
      "visibility": null,
      "width": null
     }
    },
    "1f1fd6bb8f3d458a93ca1441899f89cc": {
     "model_module": "@jupyter-widgets/controls",
     "model_name": "DescriptionStyleModel",
     "state": {
      "_model_module": "@jupyter-widgets/controls",
      "_model_module_version": "1.5.0",
      "_model_name": "DescriptionStyleModel",
      "_view_count": null,
      "_view_module": "@jupyter-widgets/base",
      "_view_module_version": "1.2.0",
      "_view_name": "StyleView",
      "description_width": ""
     }
    },
    "1fb2ce7fb6624bba9591ad3ef79402b4": {
     "model_module": "@jupyter-widgets/base",
     "model_name": "LayoutModel",
     "state": {
      "_model_module": "@jupyter-widgets/base",
      "_model_module_version": "1.2.0",
      "_model_name": "LayoutModel",
      "_view_count": null,
      "_view_module": "@jupyter-widgets/base",
      "_view_module_version": "1.2.0",
      "_view_name": "LayoutView",
      "align_content": null,
      "align_items": null,
      "align_self": null,
      "border": null,
      "bottom": null,
      "display": null,
      "flex": null,
      "flex_flow": null,
      "grid_area": null,
      "grid_auto_columns": null,
      "grid_auto_flow": null,
      "grid_auto_rows": null,
      "grid_column": null,
      "grid_gap": null,
      "grid_row": null,
      "grid_template_areas": null,
      "grid_template_columns": null,
      "grid_template_rows": null,
      "height": null,
      "justify_content": null,
      "justify_items": null,
      "left": null,
      "margin": null,
      "max_height": null,
      "max_width": null,
      "min_height": null,
      "min_width": null,
      "object_fit": null,
      "object_position": null,
      "order": null,
      "overflow": null,
      "overflow_x": null,
      "overflow_y": null,
      "padding": null,
      "right": null,
      "top": null,
      "visibility": null,
      "width": null
     }
    },
    "20273edb68e649689061fd3ed0c91aab": {
     "model_module": "@jupyter-widgets/base",
     "model_name": "LayoutModel",
     "state": {
      "_model_module": "@jupyter-widgets/base",
      "_model_module_version": "1.2.0",
      "_model_name": "LayoutModel",
      "_view_count": null,
      "_view_module": "@jupyter-widgets/base",
      "_view_module_version": "1.2.0",
      "_view_name": "LayoutView",
      "align_content": null,
      "align_items": null,
      "align_self": null,
      "border": null,
      "bottom": null,
      "display": null,
      "flex": null,
      "flex_flow": null,
      "grid_area": null,
      "grid_auto_columns": null,
      "grid_auto_flow": null,
      "grid_auto_rows": null,
      "grid_column": null,
      "grid_gap": null,
      "grid_row": null,
      "grid_template_areas": null,
      "grid_template_columns": null,
      "grid_template_rows": null,
      "height": null,
      "justify_content": null,
      "justify_items": null,
      "left": null,
      "margin": null,
      "max_height": null,
      "max_width": null,
      "min_height": null,
      "min_width": null,
      "object_fit": null,
      "object_position": null,
      "order": null,
      "overflow": null,
      "overflow_x": null,
      "overflow_y": null,
      "padding": null,
      "right": null,
      "top": null,
      "visibility": null,
      "width": null
     }
    },
    "25702225de574af78f510eefb085259e": {
     "model_module": "@jupyter-widgets/controls",
     "model_name": "HBoxModel",
     "state": {
      "_dom_classes": [],
      "_model_module": "@jupyter-widgets/controls",
      "_model_module_version": "1.5.0",
      "_model_name": "HBoxModel",
      "_view_count": null,
      "_view_module": "@jupyter-widgets/controls",
      "_view_module_version": "1.5.0",
      "_view_name": "HBoxView",
      "box_style": "",
      "children": [
       "IPY_MODEL_6d0a306145fb49859d00d9d7a9b6fc57",
       "IPY_MODEL_d71497e5556d4bb2a6af13bd553e7cba"
      ],
      "layout": "IPY_MODEL_4bc77a54504e4ae68ace48bc8a8f866f"
     }
    },
    "2ebb8d5e58504475b922f638bf4d216d": {
     "model_module": "@jupyter-widgets/base",
     "model_name": "LayoutModel",
     "state": {
      "_model_module": "@jupyter-widgets/base",
      "_model_module_version": "1.2.0",
      "_model_name": "LayoutModel",
      "_view_count": null,
      "_view_module": "@jupyter-widgets/base",
      "_view_module_version": "1.2.0",
      "_view_name": "LayoutView",
      "align_content": null,
      "align_items": null,
      "align_self": null,
      "border": null,
      "bottom": null,
      "display": null,
      "flex": null,
      "flex_flow": null,
      "grid_area": null,
      "grid_auto_columns": null,
      "grid_auto_flow": null,
      "grid_auto_rows": null,
      "grid_column": null,
      "grid_gap": null,
      "grid_row": null,
      "grid_template_areas": null,
      "grid_template_columns": null,
      "grid_template_rows": null,
      "height": null,
      "justify_content": null,
      "justify_items": null,
      "left": null,
      "margin": null,
      "max_height": null,
      "max_width": null,
      "min_height": null,
      "min_width": null,
      "object_fit": null,
      "object_position": null,
      "order": null,
      "overflow": null,
      "overflow_x": null,
      "overflow_y": null,
      "padding": null,
      "right": null,
      "top": null,
      "visibility": null,
      "width": null
     }
    },
    "2f3e002c5dbb442a86cf968ff0c6480d": {
     "model_module": "@jupyter-widgets/controls",
     "model_name": "FloatProgressModel",
     "state": {
      "_dom_classes": [],
      "_model_module": "@jupyter-widgets/controls",
      "_model_module_version": "1.5.0",
      "_model_name": "FloatProgressModel",
      "_view_count": null,
      "_view_module": "@jupyter-widgets/controls",
      "_view_module_version": "1.5.0",
      "_view_name": "ProgressView",
      "bar_style": "success",
      "description": "",
      "description_tooltip": null,
      "layout": "IPY_MODEL_c1a7afb6e1454f5cbe1ddb5262160e43",
      "max": 1,
      "min": 0,
      "orientation": "horizontal",
      "style": "IPY_MODEL_de65e5f3f5a141d686978d42ffee873b",
      "value": 1
     }
    },
    "325cb4e49fed4cce8086e8b99d4d6335": {
     "model_module": "@jupyter-widgets/base",
     "model_name": "LayoutModel",
     "state": {
      "_model_module": "@jupyter-widgets/base",
      "_model_module_version": "1.2.0",
      "_model_name": "LayoutModel",
      "_view_count": null,
      "_view_module": "@jupyter-widgets/base",
      "_view_module_version": "1.2.0",
      "_view_name": "LayoutView",
      "align_content": null,
      "align_items": null,
      "align_self": null,
      "border": null,
      "bottom": null,
      "display": null,
      "flex": null,
      "flex_flow": null,
      "grid_area": null,
      "grid_auto_columns": null,
      "grid_auto_flow": null,
      "grid_auto_rows": null,
      "grid_column": null,
      "grid_gap": null,
      "grid_row": null,
      "grid_template_areas": null,
      "grid_template_columns": null,
      "grid_template_rows": null,
      "height": null,
      "justify_content": null,
      "justify_items": null,
      "left": null,
      "margin": null,
      "max_height": null,
      "max_width": null,
      "min_height": null,
      "min_width": null,
      "object_fit": null,
      "object_position": null,
      "order": null,
      "overflow": null,
      "overflow_x": null,
      "overflow_y": null,
      "padding": null,
      "right": null,
      "top": null,
      "visibility": null,
      "width": null
     }
    },
    "37a622f3ba4f4e5da011704b83037249": {
     "model_module": "@jupyter-widgets/base",
     "model_name": "LayoutModel",
     "state": {
      "_model_module": "@jupyter-widgets/base",
      "_model_module_version": "1.2.0",
      "_model_name": "LayoutModel",
      "_view_count": null,
      "_view_module": "@jupyter-widgets/base",
      "_view_module_version": "1.2.0",
      "_view_name": "LayoutView",
      "align_content": null,
      "align_items": null,
      "align_self": null,
      "border": null,
      "bottom": null,
      "display": null,
      "flex": null,
      "flex_flow": null,
      "grid_area": null,
      "grid_auto_columns": null,
      "grid_auto_flow": null,
      "grid_auto_rows": null,
      "grid_column": null,
      "grid_gap": null,
      "grid_row": null,
      "grid_template_areas": null,
      "grid_template_columns": null,
      "grid_template_rows": null,
      "height": null,
      "justify_content": null,
      "justify_items": null,
      "left": null,
      "margin": null,
      "max_height": null,
      "max_width": null,
      "min_height": null,
      "min_width": null,
      "object_fit": null,
      "object_position": null,
      "order": null,
      "overflow": null,
      "overflow_x": null,
      "overflow_y": null,
      "padding": null,
      "right": null,
      "top": null,
      "visibility": null,
      "width": null
     }
    },
    "3cbdb1f94f02442eabc6696721cf51ee": {
     "model_module": "@jupyter-widgets/controls",
     "model_name": "ProgressStyleModel",
     "state": {
      "_model_module": "@jupyter-widgets/controls",
      "_model_module_version": "1.5.0",
      "_model_name": "ProgressStyleModel",
      "_view_count": null,
      "_view_module": "@jupyter-widgets/base",
      "_view_module_version": "1.2.0",
      "_view_name": "StyleView",
      "bar_color": null,
      "description_width": "initial"
     }
    },
    "3f9e3ec3b5774fb7a806e74f342d1db5": {
     "model_module": "@jupyter-widgets/base",
     "model_name": "LayoutModel",
     "state": {
      "_model_module": "@jupyter-widgets/base",
      "_model_module_version": "1.2.0",
      "_model_name": "LayoutModel",
      "_view_count": null,
      "_view_module": "@jupyter-widgets/base",
      "_view_module_version": "1.2.0",
      "_view_name": "LayoutView",
      "align_content": null,
      "align_items": null,
      "align_self": null,
      "border": null,
      "bottom": null,
      "display": null,
      "flex": null,
      "flex_flow": null,
      "grid_area": null,
      "grid_auto_columns": null,
      "grid_auto_flow": null,
      "grid_auto_rows": null,
      "grid_column": null,
      "grid_gap": null,
      "grid_row": null,
      "grid_template_areas": null,
      "grid_template_columns": null,
      "grid_template_rows": null,
      "height": null,
      "justify_content": null,
      "justify_items": null,
      "left": null,
      "margin": null,
      "max_height": null,
      "max_width": null,
      "min_height": null,
      "min_width": null,
      "object_fit": null,
      "object_position": null,
      "order": null,
      "overflow": null,
      "overflow_x": null,
      "overflow_y": null,
      "padding": null,
      "right": null,
      "top": null,
      "visibility": null,
      "width": null
     }
    },
    "419d154be284408b8552cdc8eaa54d80": {
     "model_module": "@jupyter-widgets/controls",
     "model_name": "ProgressStyleModel",
     "state": {
      "_model_module": "@jupyter-widgets/controls",
      "_model_module_version": "1.5.0",
      "_model_name": "ProgressStyleModel",
      "_view_count": null,
      "_view_module": "@jupyter-widgets/base",
      "_view_module_version": "1.2.0",
      "_view_name": "StyleView",
      "bar_color": null,
      "description_width": "initial"
     }
    },
    "426538e53beb46209f878d39ea7c8404": {
     "model_module": "@jupyter-widgets/base",
     "model_name": "LayoutModel",
     "state": {
      "_model_module": "@jupyter-widgets/base",
      "_model_module_version": "1.2.0",
      "_model_name": "LayoutModel",
      "_view_count": null,
      "_view_module": "@jupyter-widgets/base",
      "_view_module_version": "1.2.0",
      "_view_name": "LayoutView",
      "align_content": null,
      "align_items": null,
      "align_self": null,
      "border": null,
      "bottom": null,
      "display": null,
      "flex": null,
      "flex_flow": null,
      "grid_area": null,
      "grid_auto_columns": null,
      "grid_auto_flow": null,
      "grid_auto_rows": null,
      "grid_column": null,
      "grid_gap": null,
      "grid_row": null,
      "grid_template_areas": null,
      "grid_template_columns": null,
      "grid_template_rows": null,
      "height": null,
      "justify_content": null,
      "justify_items": null,
      "left": null,
      "margin": null,
      "max_height": null,
      "max_width": null,
      "min_height": null,
      "min_width": null,
      "object_fit": null,
      "object_position": null,
      "order": null,
      "overflow": null,
      "overflow_x": null,
      "overflow_y": null,
      "padding": null,
      "right": null,
      "top": null,
      "visibility": null,
      "width": null
     }
    },
    "455dfda8a806468da88c853d8e70e554": {
     "model_module": "@jupyter-widgets/base",
     "model_name": "LayoutModel",
     "state": {
      "_model_module": "@jupyter-widgets/base",
      "_model_module_version": "1.2.0",
      "_model_name": "LayoutModel",
      "_view_count": null,
      "_view_module": "@jupyter-widgets/base",
      "_view_module_version": "1.2.0",
      "_view_name": "LayoutView",
      "align_content": null,
      "align_items": null,
      "align_self": null,
      "border": null,
      "bottom": null,
      "display": null,
      "flex": null,
      "flex_flow": null,
      "grid_area": null,
      "grid_auto_columns": null,
      "grid_auto_flow": null,
      "grid_auto_rows": null,
      "grid_column": null,
      "grid_gap": null,
      "grid_row": null,
      "grid_template_areas": null,
      "grid_template_columns": null,
      "grid_template_rows": null,
      "height": null,
      "justify_content": null,
      "justify_items": null,
      "left": null,
      "margin": null,
      "max_height": null,
      "max_width": null,
      "min_height": null,
      "min_width": null,
      "object_fit": null,
      "object_position": null,
      "order": null,
      "overflow": null,
      "overflow_x": null,
      "overflow_y": null,
      "padding": null,
      "right": null,
      "top": null,
      "visibility": null,
      "width": null
     }
    },
    "45f6ad2740304e8d97def7aa59281a32": {
     "model_module": "@jupyter-widgets/controls",
     "model_name": "HBoxModel",
     "state": {
      "_dom_classes": [],
      "_model_module": "@jupyter-widgets/controls",
      "_model_module_version": "1.5.0",
      "_model_name": "HBoxModel",
      "_view_count": null,
      "_view_module": "@jupyter-widgets/controls",
      "_view_module_version": "1.5.0",
      "_view_name": "HBoxView",
      "box_style": "",
      "children": [
       "IPY_MODEL_d7680cf89f204720ad41d16d1b5de5fa",
       "IPY_MODEL_a1e61c6694a6408d9fb4e8f5b67ccc58"
      ],
      "layout": "IPY_MODEL_3f9e3ec3b5774fb7a806e74f342d1db5"
     }
    },
    "4bc77a54504e4ae68ace48bc8a8f866f": {
     "model_module": "@jupyter-widgets/base",
     "model_name": "LayoutModel",
     "state": {
      "_model_module": "@jupyter-widgets/base",
      "_model_module_version": "1.2.0",
      "_model_name": "LayoutModel",
      "_view_count": null,
      "_view_module": "@jupyter-widgets/base",
      "_view_module_version": "1.2.0",
      "_view_name": "LayoutView",
      "align_content": null,
      "align_items": null,
      "align_self": null,
      "border": null,
      "bottom": null,
      "display": null,
      "flex": null,
      "flex_flow": null,
      "grid_area": null,
      "grid_auto_columns": null,
      "grid_auto_flow": null,
      "grid_auto_rows": null,
      "grid_column": null,
      "grid_gap": null,
      "grid_row": null,
      "grid_template_areas": null,
      "grid_template_columns": null,
      "grid_template_rows": null,
      "height": null,
      "justify_content": null,
      "justify_items": null,
      "left": null,
      "margin": null,
      "max_height": null,
      "max_width": null,
      "min_height": null,
      "min_width": null,
      "object_fit": null,
      "object_position": null,
      "order": null,
      "overflow": null,
      "overflow_x": null,
      "overflow_y": null,
      "padding": null,
      "right": null,
      "top": null,
      "visibility": null,
      "width": null
     }
    },
    "4f7e259c5d6b4989824dd7893a38421c": {
     "model_module": "@jupyter-widgets/controls",
     "model_name": "ProgressStyleModel",
     "state": {
      "_model_module": "@jupyter-widgets/controls",
      "_model_module_version": "1.5.0",
      "_model_name": "ProgressStyleModel",
      "_view_count": null,
      "_view_module": "@jupyter-widgets/base",
      "_view_module_version": "1.2.0",
      "_view_name": "StyleView",
      "bar_color": null,
      "description_width": "initial"
     }
    },
    "50f19fba391a4730919dbfb5bb522953": {
     "model_module": "@jupyter-widgets/controls",
     "model_name": "FloatProgressModel",
     "state": {
      "_dom_classes": [],
      "_model_module": "@jupyter-widgets/controls",
      "_model_module_version": "1.5.0",
      "_model_name": "FloatProgressModel",
      "_view_count": null,
      "_view_module": "@jupyter-widgets/controls",
      "_view_module_version": "1.5.0",
      "_view_name": "ProgressView",
      "bar_style": "success",
      "description": "",
      "description_tooltip": null,
      "layout": "IPY_MODEL_ff01358995dd47c49c0a0f613788d870",
      "max": 1,
      "min": 0,
      "orientation": "horizontal",
      "style": "IPY_MODEL_bea0894df1ad49adac15c0960c1293a5",
      "value": 1
     }
    },
    "55cc76a8dedf42968ae1d5432c45e7b1": {
     "model_module": "@jupyter-widgets/base",
     "model_name": "LayoutModel",
     "state": {
      "_model_module": "@jupyter-widgets/base",
      "_model_module_version": "1.2.0",
      "_model_name": "LayoutModel",
      "_view_count": null,
      "_view_module": "@jupyter-widgets/base",
      "_view_module_version": "1.2.0",
      "_view_name": "LayoutView",
      "align_content": null,
      "align_items": null,
      "align_self": null,
      "border": null,
      "bottom": null,
      "display": null,
      "flex": null,
      "flex_flow": null,
      "grid_area": null,
      "grid_auto_columns": null,
      "grid_auto_flow": null,
      "grid_auto_rows": null,
      "grid_column": null,
      "grid_gap": null,
      "grid_row": null,
      "grid_template_areas": null,
      "grid_template_columns": null,
      "grid_template_rows": null,
      "height": null,
      "justify_content": null,
      "justify_items": null,
      "left": null,
      "margin": null,
      "max_height": null,
      "max_width": null,
      "min_height": null,
      "min_width": null,
      "object_fit": null,
      "object_position": null,
      "order": null,
      "overflow": null,
      "overflow_x": null,
      "overflow_y": null,
      "padding": null,
      "right": null,
      "top": null,
      "visibility": null,
      "width": null
     }
    },
    "56bc9290b7e44f14a0a2424149237b02": {
     "model_module": "@jupyter-widgets/controls",
     "model_name": "ProgressStyleModel",
     "state": {
      "_model_module": "@jupyter-widgets/controls",
      "_model_module_version": "1.5.0",
      "_model_name": "ProgressStyleModel",
      "_view_count": null,
      "_view_module": "@jupyter-widgets/base",
      "_view_module_version": "1.2.0",
      "_view_name": "StyleView",
      "bar_color": null,
      "description_width": "initial"
     }
    },
    "5947bf33267c4d81880bd1f5c8c39133": {
     "model_module": "@jupyter-widgets/base",
     "model_name": "LayoutModel",
     "state": {
      "_model_module": "@jupyter-widgets/base",
      "_model_module_version": "1.2.0",
      "_model_name": "LayoutModel",
      "_view_count": null,
      "_view_module": "@jupyter-widgets/base",
      "_view_module_version": "1.2.0",
      "_view_name": "LayoutView",
      "align_content": null,
      "align_items": null,
      "align_self": null,
      "border": null,
      "bottom": null,
      "display": null,
      "flex": null,
      "flex_flow": null,
      "grid_area": null,
      "grid_auto_columns": null,
      "grid_auto_flow": null,
      "grid_auto_rows": null,
      "grid_column": null,
      "grid_gap": null,
      "grid_row": null,
      "grid_template_areas": null,
      "grid_template_columns": null,
      "grid_template_rows": null,
      "height": null,
      "justify_content": null,
      "justify_items": null,
      "left": null,
      "margin": null,
      "max_height": null,
      "max_width": null,
      "min_height": null,
      "min_width": null,
      "object_fit": null,
      "object_position": null,
      "order": null,
      "overflow": null,
      "overflow_x": null,
      "overflow_y": null,
      "padding": null,
      "right": null,
      "top": null,
      "visibility": null,
      "width": null
     }
    },
    "5e4f7852b1184395b0a2a50e923e5476": {
     "model_module": "@jupyter-widgets/base",
     "model_name": "LayoutModel",
     "state": {
      "_model_module": "@jupyter-widgets/base",
      "_model_module_version": "1.2.0",
      "_model_name": "LayoutModel",
      "_view_count": null,
      "_view_module": "@jupyter-widgets/base",
      "_view_module_version": "1.2.0",
      "_view_name": "LayoutView",
      "align_content": null,
      "align_items": null,
      "align_self": null,
      "border": null,
      "bottom": null,
      "display": null,
      "flex": null,
      "flex_flow": null,
      "grid_area": null,
      "grid_auto_columns": null,
      "grid_auto_flow": null,
      "grid_auto_rows": null,
      "grid_column": null,
      "grid_gap": null,
      "grid_row": null,
      "grid_template_areas": null,
      "grid_template_columns": null,
      "grid_template_rows": null,
      "height": null,
      "justify_content": null,
      "justify_items": null,
      "left": null,
      "margin": null,
      "max_height": null,
      "max_width": null,
      "min_height": null,
      "min_width": null,
      "object_fit": null,
      "object_position": null,
      "order": null,
      "overflow": null,
      "overflow_x": null,
      "overflow_y": null,
      "padding": null,
      "right": null,
      "top": null,
      "visibility": null,
      "width": null
     }
    },
    "5f402d95371f4452a0eb0502381d60af": {
     "model_module": "@jupyter-widgets/controls",
     "model_name": "DescriptionStyleModel",
     "state": {
      "_model_module": "@jupyter-widgets/controls",
      "_model_module_version": "1.5.0",
      "_model_name": "DescriptionStyleModel",
      "_view_count": null,
      "_view_module": "@jupyter-widgets/base",
      "_view_module_version": "1.2.0",
      "_view_name": "StyleView",
      "description_width": ""
     }
    },
    "6063cae0d38c433fa33b8b1149e39852": {
     "model_module": "@jupyter-widgets/base",
     "model_name": "LayoutModel",
     "state": {
      "_model_module": "@jupyter-widgets/base",
      "_model_module_version": "1.2.0",
      "_model_name": "LayoutModel",
      "_view_count": null,
      "_view_module": "@jupyter-widgets/base",
      "_view_module_version": "1.2.0",
      "_view_name": "LayoutView",
      "align_content": null,
      "align_items": null,
      "align_self": null,
      "border": null,
      "bottom": null,
      "display": null,
      "flex": null,
      "flex_flow": null,
      "grid_area": null,
      "grid_auto_columns": null,
      "grid_auto_flow": null,
      "grid_auto_rows": null,
      "grid_column": null,
      "grid_gap": null,
      "grid_row": null,
      "grid_template_areas": null,
      "grid_template_columns": null,
      "grid_template_rows": null,
      "height": null,
      "justify_content": null,
      "justify_items": null,
      "left": null,
      "margin": null,
      "max_height": null,
      "max_width": null,
      "min_height": null,
      "min_width": null,
      "object_fit": null,
      "object_position": null,
      "order": null,
      "overflow": null,
      "overflow_x": null,
      "overflow_y": null,
      "padding": null,
      "right": null,
      "top": null,
      "visibility": null,
      "width": null
     }
    },
    "6117324b531f4ed3af12ef4438070c64": {
     "model_module": "@jupyter-widgets/controls",
     "model_name": "DescriptionStyleModel",
     "state": {
      "_model_module": "@jupyter-widgets/controls",
      "_model_module_version": "1.5.0",
      "_model_name": "DescriptionStyleModel",
      "_view_count": null,
      "_view_module": "@jupyter-widgets/base",
      "_view_module_version": "1.2.0",
      "_view_name": "StyleView",
      "description_width": ""
     }
    },
    "638c884ce47f4757b2c66b2f0feea6e0": {
     "model_module": "@jupyter-widgets/controls",
     "model_name": "DescriptionStyleModel",
     "state": {
      "_model_module": "@jupyter-widgets/controls",
      "_model_module_version": "1.5.0",
      "_model_name": "DescriptionStyleModel",
      "_view_count": null,
      "_view_module": "@jupyter-widgets/base",
      "_view_module_version": "1.2.0",
      "_view_name": "StyleView",
      "description_width": ""
     }
    },
    "66e2ee3d21da4d30bdfe342ee8ee3930": {
     "model_module": "@jupyter-widgets/controls",
     "model_name": "DescriptionStyleModel",
     "state": {
      "_model_module": "@jupyter-widgets/controls",
      "_model_module_version": "1.5.0",
      "_model_name": "DescriptionStyleModel",
      "_view_count": null,
      "_view_module": "@jupyter-widgets/base",
      "_view_module_version": "1.2.0",
      "_view_name": "StyleView",
      "description_width": ""
     }
    },
    "678a1b43cd894f3ea9e95bec09a83658": {
     "model_module": "@jupyter-widgets/controls",
     "model_name": "ProgressStyleModel",
     "state": {
      "_model_module": "@jupyter-widgets/controls",
      "_model_module_version": "1.5.0",
      "_model_name": "ProgressStyleModel",
      "_view_count": null,
      "_view_module": "@jupyter-widgets/base",
      "_view_module_version": "1.2.0",
      "_view_name": "StyleView",
      "bar_color": null,
      "description_width": "initial"
     }
    },
    "6d0a306145fb49859d00d9d7a9b6fc57": {
     "model_module": "@jupyter-widgets/controls",
     "model_name": "FloatProgressModel",
     "state": {
      "_dom_classes": [],
      "_model_module": "@jupyter-widgets/controls",
      "_model_module_version": "1.5.0",
      "_model_name": "FloatProgressModel",
      "_view_count": null,
      "_view_module": "@jupyter-widgets/controls",
      "_view_module_version": "1.5.0",
      "_view_name": "ProgressView",
      "bar_style": "success",
      "description": "",
      "description_tooltip": null,
      "layout": "IPY_MODEL_9d1858d3956f482e95865083d5479c75",
      "max": 1,
      "min": 0,
      "orientation": "horizontal",
      "style": "IPY_MODEL_678a1b43cd894f3ea9e95bec09a83658",
      "value": 1
     }
    },
    "6e483e18fbcc4ff1ae945b2133b7a067": {
     "model_module": "@jupyter-widgets/base",
     "model_name": "LayoutModel",
     "state": {
      "_model_module": "@jupyter-widgets/base",
      "_model_module_version": "1.2.0",
      "_model_name": "LayoutModel",
      "_view_count": null,
      "_view_module": "@jupyter-widgets/base",
      "_view_module_version": "1.2.0",
      "_view_name": "LayoutView",
      "align_content": null,
      "align_items": null,
      "align_self": null,
      "border": null,
      "bottom": null,
      "display": null,
      "flex": null,
      "flex_flow": null,
      "grid_area": null,
      "grid_auto_columns": null,
      "grid_auto_flow": null,
      "grid_auto_rows": null,
      "grid_column": null,
      "grid_gap": null,
      "grid_row": null,
      "grid_template_areas": null,
      "grid_template_columns": null,
      "grid_template_rows": null,
      "height": null,
      "justify_content": null,
      "justify_items": null,
      "left": null,
      "margin": null,
      "max_height": null,
      "max_width": null,
      "min_height": null,
      "min_width": null,
      "object_fit": null,
      "object_position": null,
      "order": null,
      "overflow": null,
      "overflow_x": null,
      "overflow_y": null,
      "padding": null,
      "right": null,
      "top": null,
      "visibility": null,
      "width": null
     }
    },
    "7020474e3a624dfaa0c7911b6dc8b14a": {
     "model_module": "@jupyter-widgets/controls",
     "model_name": "HBoxModel",
     "state": {
      "_dom_classes": [],
      "_model_module": "@jupyter-widgets/controls",
      "_model_module_version": "1.5.0",
      "_model_name": "HBoxModel",
      "_view_count": null,
      "_view_module": "@jupyter-widgets/controls",
      "_view_module_version": "1.5.0",
      "_view_name": "HBoxView",
      "box_style": "",
      "children": [
       "IPY_MODEL_fd6835af6de349f69990ba8e1291635a",
       "IPY_MODEL_bb602917b904469ea147d6653aadfa12"
      ],
      "layout": "IPY_MODEL_6e483e18fbcc4ff1ae945b2133b7a067"
     }
    },
    "72834bbcd21d4ddcbb09bca51936a4b8": {
     "model_module": "@jupyter-widgets/controls",
     "model_name": "HTMLModel",
     "state": {
      "_dom_classes": [],
      "_model_module": "@jupyter-widgets/controls",
      "_model_module_version": "1.5.0",
      "_model_name": "HTMLModel",
      "_view_count": null,
      "_view_module": "@jupyter-widgets/controls",
      "_view_module_version": "1.5.0",
      "_view_name": "HTMLView",
      "description": "",
      "description_tooltip": null,
      "layout": "IPY_MODEL_2ebb8d5e58504475b922f638bf4d216d",
      "placeholder": "​",
      "style": "IPY_MODEL_a5ae8cf303c14c08bd6989a55323aa18",
      "value": " 234/? [00:05&lt;00:00, 44.99it/s]"
     }
    },
    "735a630c61864c8d875e3a4675c8eadb": {
     "model_module": "@jupyter-widgets/controls",
     "model_name": "FloatProgressModel",
     "state": {
      "_dom_classes": [],
      "_model_module": "@jupyter-widgets/controls",
      "_model_module_version": "1.5.0",
      "_model_name": "FloatProgressModel",
      "_view_count": null,
      "_view_module": "@jupyter-widgets/controls",
      "_view_module_version": "1.5.0",
      "_view_name": "ProgressView",
      "bar_style": "success",
      "description": "",
      "description_tooltip": null,
      "layout": "IPY_MODEL_85ddebee54974c6dad1fbda40bd7788d",
      "max": 1,
      "min": 0,
      "orientation": "horizontal",
      "style": "IPY_MODEL_3cbdb1f94f02442eabc6696721cf51ee",
      "value": 1
     }
    },
    "782e3b462d2840adbbf92bf6c50a911b": {
     "model_module": "@jupyter-widgets/base",
     "model_name": "LayoutModel",
     "state": {
      "_model_module": "@jupyter-widgets/base",
      "_model_module_version": "1.2.0",
      "_model_name": "LayoutModel",
      "_view_count": null,
      "_view_module": "@jupyter-widgets/base",
      "_view_module_version": "1.2.0",
      "_view_name": "LayoutView",
      "align_content": null,
      "align_items": null,
      "align_self": null,
      "border": null,
      "bottom": null,
      "display": null,
      "flex": null,
      "flex_flow": null,
      "grid_area": null,
      "grid_auto_columns": null,
      "grid_auto_flow": null,
      "grid_auto_rows": null,
      "grid_column": null,
      "grid_gap": null,
      "grid_row": null,
      "grid_template_areas": null,
      "grid_template_columns": null,
      "grid_template_rows": null,
      "height": null,
      "justify_content": null,
      "justify_items": null,
      "left": null,
      "margin": null,
      "max_height": null,
      "max_width": null,
      "min_height": null,
      "min_width": null,
      "object_fit": null,
      "object_position": null,
      "order": null,
      "overflow": null,
      "overflow_x": null,
      "overflow_y": null,
      "padding": null,
      "right": null,
      "top": null,
      "visibility": null,
      "width": null
     }
    },
    "7c644b8ab8eb4b9aa0032f5dcd609aa8": {
     "model_module": "@jupyter-widgets/base",
     "model_name": "LayoutModel",
     "state": {
      "_model_module": "@jupyter-widgets/base",
      "_model_module_version": "1.2.0",
      "_model_name": "LayoutModel",
      "_view_count": null,
      "_view_module": "@jupyter-widgets/base",
      "_view_module_version": "1.2.0",
      "_view_name": "LayoutView",
      "align_content": null,
      "align_items": null,
      "align_self": null,
      "border": null,
      "bottom": null,
      "display": null,
      "flex": null,
      "flex_flow": null,
      "grid_area": null,
      "grid_auto_columns": null,
      "grid_auto_flow": null,
      "grid_auto_rows": null,
      "grid_column": null,
      "grid_gap": null,
      "grid_row": null,
      "grid_template_areas": null,
      "grid_template_columns": null,
      "grid_template_rows": null,
      "height": null,
      "justify_content": null,
      "justify_items": null,
      "left": null,
      "margin": null,
      "max_height": null,
      "max_width": null,
      "min_height": null,
      "min_width": null,
      "object_fit": null,
      "object_position": null,
      "order": null,
      "overflow": null,
      "overflow_x": null,
      "overflow_y": null,
      "padding": null,
      "right": null,
      "top": null,
      "visibility": null,
      "width": null
     }
    },
    "7f5e3132c4814eef85334de60894eea9": {
     "model_module": "@jupyter-widgets/controls",
     "model_name": "DescriptionStyleModel",
     "state": {
      "_model_module": "@jupyter-widgets/controls",
      "_model_module_version": "1.5.0",
      "_model_name": "DescriptionStyleModel",
      "_view_count": null,
      "_view_module": "@jupyter-widgets/base",
      "_view_module_version": "1.2.0",
      "_view_name": "StyleView",
      "description_width": ""
     }
    },
    "81ce72c82aee422791e4bb846a62bfaa": {
     "model_module": "@jupyter-widgets/base",
     "model_name": "LayoutModel",
     "state": {
      "_model_module": "@jupyter-widgets/base",
      "_model_module_version": "1.2.0",
      "_model_name": "LayoutModel",
      "_view_count": null,
      "_view_module": "@jupyter-widgets/base",
      "_view_module_version": "1.2.0",
      "_view_name": "LayoutView",
      "align_content": null,
      "align_items": null,
      "align_self": null,
      "border": null,
      "bottom": null,
      "display": null,
      "flex": null,
      "flex_flow": null,
      "grid_area": null,
      "grid_auto_columns": null,
      "grid_auto_flow": null,
      "grid_auto_rows": null,
      "grid_column": null,
      "grid_gap": null,
      "grid_row": null,
      "grid_template_areas": null,
      "grid_template_columns": null,
      "grid_template_rows": null,
      "height": null,
      "justify_content": null,
      "justify_items": null,
      "left": null,
      "margin": null,
      "max_height": null,
      "max_width": null,
      "min_height": null,
      "min_width": null,
      "object_fit": null,
      "object_position": null,
      "order": null,
      "overflow": null,
      "overflow_x": null,
      "overflow_y": null,
      "padding": null,
      "right": null,
      "top": null,
      "visibility": null,
      "width": null
     }
    },
    "85ddebee54974c6dad1fbda40bd7788d": {
     "model_module": "@jupyter-widgets/base",
     "model_name": "LayoutModel",
     "state": {
      "_model_module": "@jupyter-widgets/base",
      "_model_module_version": "1.2.0",
      "_model_name": "LayoutModel",
      "_view_count": null,
      "_view_module": "@jupyter-widgets/base",
      "_view_module_version": "1.2.0",
      "_view_name": "LayoutView",
      "align_content": null,
      "align_items": null,
      "align_self": null,
      "border": null,
      "bottom": null,
      "display": null,
      "flex": null,
      "flex_flow": null,
      "grid_area": null,
      "grid_auto_columns": null,
      "grid_auto_flow": null,
      "grid_auto_rows": null,
      "grid_column": null,
      "grid_gap": null,
      "grid_row": null,
      "grid_template_areas": null,
      "grid_template_columns": null,
      "grid_template_rows": null,
      "height": null,
      "justify_content": null,
      "justify_items": null,
      "left": null,
      "margin": null,
      "max_height": null,
      "max_width": null,
      "min_height": null,
      "min_width": null,
      "object_fit": null,
      "object_position": null,
      "order": null,
      "overflow": null,
      "overflow_x": null,
      "overflow_y": null,
      "padding": null,
      "right": null,
      "top": null,
      "visibility": null,
      "width": null
     }
    },
    "87337cfef2fa4c12913aec3fa0ba9ce0": {
     "model_module": "@jupyter-widgets/controls",
     "model_name": "HBoxModel",
     "state": {
      "_dom_classes": [],
      "_model_module": "@jupyter-widgets/controls",
      "_model_module_version": "1.5.0",
      "_model_name": "HBoxModel",
      "_view_count": null,
      "_view_module": "@jupyter-widgets/controls",
      "_view_module_version": "1.5.0",
      "_view_name": "HBoxView",
      "box_style": "",
      "children": [
       "IPY_MODEL_102e23df82ce4a6cab1f26095f1cd43c",
       "IPY_MODEL_d29d6e20d635438bb682e4f36789020e"
      ],
      "layout": "IPY_MODEL_55cc76a8dedf42968ae1d5432c45e7b1"
     }
    },
    "890ee268056b42a09e20ffaa3b0b862d": {
     "model_module": "@jupyter-widgets/controls",
     "model_name": "HTMLModel",
     "state": {
      "_dom_classes": [],
      "_model_module": "@jupyter-widgets/controls",
      "_model_module_version": "1.5.0",
      "_model_name": "HTMLModel",
      "_view_count": null,
      "_view_module": "@jupyter-widgets/controls",
      "_view_module_version": "1.5.0",
      "_view_name": "HTMLView",
      "description": "",
      "description_tooltip": null,
      "layout": "IPY_MODEL_e2467ed82458495c89a56e36cceff1ab",
      "placeholder": "​",
      "style": "IPY_MODEL_638c884ce47f4757b2c66b2f0feea6e0",
      "value": " 234/? [00:05&lt;00:00, 44.94it/s]"
     }
    },
    "8f1e2a07aeda489e9b2c8938261f28e5": {
     "model_module": "@jupyter-widgets/base",
     "model_name": "LayoutModel",
     "state": {
      "_model_module": "@jupyter-widgets/base",
      "_model_module_version": "1.2.0",
      "_model_name": "LayoutModel",
      "_view_count": null,
      "_view_module": "@jupyter-widgets/base",
      "_view_module_version": "1.2.0",
      "_view_name": "LayoutView",
      "align_content": null,
      "align_items": null,
      "align_self": null,
      "border": null,
      "bottom": null,
      "display": null,
      "flex": null,
      "flex_flow": null,
      "grid_area": null,
      "grid_auto_columns": null,
      "grid_auto_flow": null,
      "grid_auto_rows": null,
      "grid_column": null,
      "grid_gap": null,
      "grid_row": null,
      "grid_template_areas": null,
      "grid_template_columns": null,
      "grid_template_rows": null,
      "height": null,
      "justify_content": null,
      "justify_items": null,
      "left": null,
      "margin": null,
      "max_height": null,
      "max_width": null,
      "min_height": null,
      "min_width": null,
      "object_fit": null,
      "object_position": null,
      "order": null,
      "overflow": null,
      "overflow_x": null,
      "overflow_y": null,
      "padding": null,
      "right": null,
      "top": null,
      "visibility": null,
      "width": null
     }
    },
    "9d1858d3956f482e95865083d5479c75": {
     "model_module": "@jupyter-widgets/base",
     "model_name": "LayoutModel",
     "state": {
      "_model_module": "@jupyter-widgets/base",
      "_model_module_version": "1.2.0",
      "_model_name": "LayoutModel",
      "_view_count": null,
      "_view_module": "@jupyter-widgets/base",
      "_view_module_version": "1.2.0",
      "_view_name": "LayoutView",
      "align_content": null,
      "align_items": null,
      "align_self": null,
      "border": null,
      "bottom": null,
      "display": null,
      "flex": null,
      "flex_flow": null,
      "grid_area": null,
      "grid_auto_columns": null,
      "grid_auto_flow": null,
      "grid_auto_rows": null,
      "grid_column": null,
      "grid_gap": null,
      "grid_row": null,
      "grid_template_areas": null,
      "grid_template_columns": null,
      "grid_template_rows": null,
      "height": null,
      "justify_content": null,
      "justify_items": null,
      "left": null,
      "margin": null,
      "max_height": null,
      "max_width": null,
      "min_height": null,
      "min_width": null,
      "object_fit": null,
      "object_position": null,
      "order": null,
      "overflow": null,
      "overflow_x": null,
      "overflow_y": null,
      "padding": null,
      "right": null,
      "top": null,
      "visibility": null,
      "width": null
     }
    },
    "9e76d8908d8d4606a5b5fba73c84db93": {
     "model_module": "@jupyter-widgets/controls",
     "model_name": "HBoxModel",
     "state": {
      "_dom_classes": [],
      "_model_module": "@jupyter-widgets/controls",
      "_model_module_version": "1.5.0",
      "_model_name": "HBoxModel",
      "_view_count": null,
      "_view_module": "@jupyter-widgets/controls",
      "_view_module_version": "1.5.0",
      "_view_name": "HBoxView",
      "box_style": "",
      "children": [
       "IPY_MODEL_50f19fba391a4730919dbfb5bb522953",
       "IPY_MODEL_d0fd425f427c413eaff62c5e22389cb3"
      ],
      "layout": "IPY_MODEL_7c644b8ab8eb4b9aa0032f5dcd609aa8"
     }
    },
    "a10c744893b84476aaa35f69e349c938": {
     "model_module": "@jupyter-widgets/base",
     "model_name": "LayoutModel",
     "state": {
      "_model_module": "@jupyter-widgets/base",
      "_model_module_version": "1.2.0",
      "_model_name": "LayoutModel",
      "_view_count": null,
      "_view_module": "@jupyter-widgets/base",
      "_view_module_version": "1.2.0",
      "_view_name": "LayoutView",
      "align_content": null,
      "align_items": null,
      "align_self": null,
      "border": null,
      "bottom": null,
      "display": null,
      "flex": null,
      "flex_flow": null,
      "grid_area": null,
      "grid_auto_columns": null,
      "grid_auto_flow": null,
      "grid_auto_rows": null,
      "grid_column": null,
      "grid_gap": null,
      "grid_row": null,
      "grid_template_areas": null,
      "grid_template_columns": null,
      "grid_template_rows": null,
      "height": null,
      "justify_content": null,
      "justify_items": null,
      "left": null,
      "margin": null,
      "max_height": null,
      "max_width": null,
      "min_height": null,
      "min_width": null,
      "object_fit": null,
      "object_position": null,
      "order": null,
      "overflow": null,
      "overflow_x": null,
      "overflow_y": null,
      "padding": null,
      "right": null,
      "top": null,
      "visibility": null,
      "width": null
     }
    },
    "a1e61c6694a6408d9fb4e8f5b67ccc58": {
     "model_module": "@jupyter-widgets/controls",
     "model_name": "HTMLModel",
     "state": {
      "_dom_classes": [],
      "_model_module": "@jupyter-widgets/controls",
      "_model_module_version": "1.5.0",
      "_model_name": "HTMLModel",
      "_view_count": null,
      "_view_module": "@jupyter-widgets/controls",
      "_view_module_version": "1.5.0",
      "_view_name": "HTMLView",
      "description": "",
      "description_tooltip": null,
      "layout": "IPY_MODEL_426538e53beb46209f878d39ea7c8404",
      "placeholder": "​",
      "style": "IPY_MODEL_b16346566b704574b6e95d1fae016943",
      "value": " 234/? [00:05&lt;00:00, 42.66it/s]"
     }
    },
    "a4887e7d61bc41e987c6fee6c548569d": {
     "model_module": "@jupyter-widgets/controls",
     "model_name": "DescriptionStyleModel",
     "state": {
      "_model_module": "@jupyter-widgets/controls",
      "_model_module_version": "1.5.0",
      "_model_name": "DescriptionStyleModel",
      "_view_count": null,
      "_view_module": "@jupyter-widgets/base",
      "_view_module_version": "1.2.0",
      "_view_name": "StyleView",
      "description_width": ""
     }
    },
    "a49c980d7a294077a01245de833e881f": {
     "model_module": "@jupyter-widgets/base",
     "model_name": "LayoutModel",
     "state": {
      "_model_module": "@jupyter-widgets/base",
      "_model_module_version": "1.2.0",
      "_model_name": "LayoutModel",
      "_view_count": null,
      "_view_module": "@jupyter-widgets/base",
      "_view_module_version": "1.2.0",
      "_view_name": "LayoutView",
      "align_content": null,
      "align_items": null,
      "align_self": null,
      "border": null,
      "bottom": null,
      "display": null,
      "flex": null,
      "flex_flow": null,
      "grid_area": null,
      "grid_auto_columns": null,
      "grid_auto_flow": null,
      "grid_auto_rows": null,
      "grid_column": null,
      "grid_gap": null,
      "grid_row": null,
      "grid_template_areas": null,
      "grid_template_columns": null,
      "grid_template_rows": null,
      "height": null,
      "justify_content": null,
      "justify_items": null,
      "left": null,
      "margin": null,
      "max_height": null,
      "max_width": null,
      "min_height": null,
      "min_width": null,
      "object_fit": null,
      "object_position": null,
      "order": null,
      "overflow": null,
      "overflow_x": null,
      "overflow_y": null,
      "padding": null,
      "right": null,
      "top": null,
      "visibility": null,
      "width": null
     }
    },
    "a5ae8cf303c14c08bd6989a55323aa18": {
     "model_module": "@jupyter-widgets/controls",
     "model_name": "DescriptionStyleModel",
     "state": {
      "_model_module": "@jupyter-widgets/controls",
      "_model_module_version": "1.5.0",
      "_model_name": "DescriptionStyleModel",
      "_view_count": null,
      "_view_module": "@jupyter-widgets/base",
      "_view_module_version": "1.2.0",
      "_view_name": "StyleView",
      "description_width": ""
     }
    },
    "ab0e4999696944468a5efbac8f0e1ed1": {
     "model_module": "@jupyter-widgets/controls",
     "model_name": "HTMLModel",
     "state": {
      "_dom_classes": [],
      "_model_module": "@jupyter-widgets/controls",
      "_model_module_version": "1.5.0",
      "_model_name": "HTMLModel",
      "_view_count": null,
      "_view_module": "@jupyter-widgets/controls",
      "_view_module_version": "1.5.0",
      "_view_name": "HTMLView",
      "description": "",
      "description_tooltip": null,
      "layout": "IPY_MODEL_1fb2ce7fb6624bba9591ad3ef79402b4",
      "placeholder": "​",
      "style": "IPY_MODEL_eab7e28d98e742bc9b7795ba60497947",
      "value": " 234/? [00:05&lt;00:00, 44.88it/s]"
     }
    },
    "ae742550109c43e9910f0718b6c90376": {
     "model_module": "@jupyter-widgets/base",
     "model_name": "LayoutModel",
     "state": {
      "_model_module": "@jupyter-widgets/base",
      "_model_module_version": "1.2.0",
      "_model_name": "LayoutModel",
      "_view_count": null,
      "_view_module": "@jupyter-widgets/base",
      "_view_module_version": "1.2.0",
      "_view_name": "LayoutView",
      "align_content": null,
      "align_items": null,
      "align_self": null,
      "border": null,
      "bottom": null,
      "display": null,
      "flex": null,
      "flex_flow": null,
      "grid_area": null,
      "grid_auto_columns": null,
      "grid_auto_flow": null,
      "grid_auto_rows": null,
      "grid_column": null,
      "grid_gap": null,
      "grid_row": null,
      "grid_template_areas": null,
      "grid_template_columns": null,
      "grid_template_rows": null,
      "height": null,
      "justify_content": null,
      "justify_items": null,
      "left": null,
      "margin": null,
      "max_height": null,
      "max_width": null,
      "min_height": null,
      "min_width": null,
      "object_fit": null,
      "object_position": null,
      "order": null,
      "overflow": null,
      "overflow_x": null,
      "overflow_y": null,
      "padding": null,
      "right": null,
      "top": null,
      "visibility": null,
      "width": null
     }
    },
    "af4b3002fd654dcc844b4e82875d9e84": {
     "model_module": "@jupyter-widgets/base",
     "model_name": "LayoutModel",
     "state": {
      "_model_module": "@jupyter-widgets/base",
      "_model_module_version": "1.2.0",
      "_model_name": "LayoutModel",
      "_view_count": null,
      "_view_module": "@jupyter-widgets/base",
      "_view_module_version": "1.2.0",
      "_view_name": "LayoutView",
      "align_content": null,
      "align_items": null,
      "align_self": null,
      "border": null,
      "bottom": null,
      "display": null,
      "flex": null,
      "flex_flow": null,
      "grid_area": null,
      "grid_auto_columns": null,
      "grid_auto_flow": null,
      "grid_auto_rows": null,
      "grid_column": null,
      "grid_gap": null,
      "grid_row": null,
      "grid_template_areas": null,
      "grid_template_columns": null,
      "grid_template_rows": null,
      "height": null,
      "justify_content": null,
      "justify_items": null,
      "left": null,
      "margin": null,
      "max_height": null,
      "max_width": null,
      "min_height": null,
      "min_width": null,
      "object_fit": null,
      "object_position": null,
      "order": null,
      "overflow": null,
      "overflow_x": null,
      "overflow_y": null,
      "padding": null,
      "right": null,
      "top": null,
      "visibility": null,
      "width": null
     }
    },
    "af9fa20f160f435984398621c3feff66": {
     "model_module": "@jupyter-widgets/controls",
     "model_name": "ProgressStyleModel",
     "state": {
      "_model_module": "@jupyter-widgets/controls",
      "_model_module_version": "1.5.0",
      "_model_name": "ProgressStyleModel",
      "_view_count": null,
      "_view_module": "@jupyter-widgets/base",
      "_view_module_version": "1.2.0",
      "_view_name": "StyleView",
      "bar_color": null,
      "description_width": "initial"
     }
    },
    "b16346566b704574b6e95d1fae016943": {
     "model_module": "@jupyter-widgets/controls",
     "model_name": "DescriptionStyleModel",
     "state": {
      "_model_module": "@jupyter-widgets/controls",
      "_model_module_version": "1.5.0",
      "_model_name": "DescriptionStyleModel",
      "_view_count": null,
      "_view_module": "@jupyter-widgets/base",
      "_view_module_version": "1.2.0",
      "_view_name": "StyleView",
      "description_width": ""
     }
    },
    "bb602917b904469ea147d6653aadfa12": {
     "model_module": "@jupyter-widgets/controls",
     "model_name": "HTMLModel",
     "state": {
      "_dom_classes": [],
      "_model_module": "@jupyter-widgets/controls",
      "_model_module_version": "1.5.0",
      "_model_name": "HTMLModel",
      "_view_count": null,
      "_view_module": "@jupyter-widgets/controls",
      "_view_module_version": "1.5.0",
      "_view_name": "HTMLView",
      "description": "",
      "description_tooltip": null,
      "layout": "IPY_MODEL_37a622f3ba4f4e5da011704b83037249",
      "placeholder": "​",
      "style": "IPY_MODEL_5f402d95371f4452a0eb0502381d60af",
      "value": " 234/? [00:05&lt;00:00, 45.67it/s]"
     }
    },
    "bbf13e5e346b44bf8d77bef9f24f0a30": {
     "model_module": "@jupyter-widgets/controls",
     "model_name": "HTMLModel",
     "state": {
      "_dom_classes": [],
      "_model_module": "@jupyter-widgets/controls",
      "_model_module_version": "1.5.0",
      "_model_name": "HTMLModel",
      "_view_count": null,
      "_view_module": "@jupyter-widgets/controls",
      "_view_module_version": "1.5.0",
      "_view_name": "HTMLView",
      "description": "",
      "description_tooltip": null,
      "layout": "IPY_MODEL_455dfda8a806468da88c853d8e70e554",
      "placeholder": "​",
      "style": "IPY_MODEL_ef99dcffeace48d59ea5bfb3536aca3d",
      "value": " 234/? [00:05&lt;00:00, 44.60it/s]"
     }
    },
    "bdad2583953144e1bc6724ee01cc82e1": {
     "model_module": "@jupyter-widgets/controls",
     "model_name": "HBoxModel",
     "state": {
      "_dom_classes": [],
      "_model_module": "@jupyter-widgets/controls",
      "_model_module_version": "1.5.0",
      "_model_name": "HBoxModel",
      "_view_count": null,
      "_view_module": "@jupyter-widgets/controls",
      "_view_module_version": "1.5.0",
      "_view_name": "HBoxView",
      "box_style": "",
      "children": [
       "IPY_MODEL_d055235226564c1bb79e4e9f2a30931e",
       "IPY_MODEL_bef5e2dcde624d4b82f1faf7e03e003e"
      ],
      "layout": "IPY_MODEL_8f1e2a07aeda489e9b2c8938261f28e5"
     }
    },
    "bea0894df1ad49adac15c0960c1293a5": {
     "model_module": "@jupyter-widgets/controls",
     "model_name": "ProgressStyleModel",
     "state": {
      "_model_module": "@jupyter-widgets/controls",
      "_model_module_version": "1.5.0",
      "_model_name": "ProgressStyleModel",
      "_view_count": null,
      "_view_module": "@jupyter-widgets/base",
      "_view_module_version": "1.2.0",
      "_view_name": "StyleView",
      "bar_color": null,
      "description_width": "initial"
     }
    },
    "bef5e2dcde624d4b82f1faf7e03e003e": {
     "model_module": "@jupyter-widgets/controls",
     "model_name": "HTMLModel",
     "state": {
      "_dom_classes": [],
      "_model_module": "@jupyter-widgets/controls",
      "_model_module_version": "1.5.0",
      "_model_name": "HTMLModel",
      "_view_count": null,
      "_view_module": "@jupyter-widgets/controls",
      "_view_module_version": "1.5.0",
      "_view_name": "HTMLView",
      "description": "",
      "description_tooltip": null,
      "layout": "IPY_MODEL_5e4f7852b1184395b0a2a50e923e5476",
      "placeholder": "​",
      "style": "IPY_MODEL_66e2ee3d21da4d30bdfe342ee8ee3930",
      "value": " 10/10 [00:52&lt;00:00,  5.29s/it]"
     }
    },
    "bf8a37cd067f426b8e0d22df0434a730": {
     "model_module": "@jupyter-widgets/controls",
     "model_name": "HTMLModel",
     "state": {
      "_dom_classes": [],
      "_model_module": "@jupyter-widgets/controls",
      "_model_module_version": "1.5.0",
      "_model_name": "HTMLModel",
      "_view_count": null,
      "_view_module": "@jupyter-widgets/controls",
      "_view_module_version": "1.5.0",
      "_view_name": "HTMLView",
      "description": "",
      "description_tooltip": null,
      "layout": "IPY_MODEL_af4b3002fd654dcc844b4e82875d9e84",
      "placeholder": "​",
      "style": "IPY_MODEL_7f5e3132c4814eef85334de60894eea9",
      "value": " 234/? [00:05&lt;00:00, 43.71it/s]"
     }
    },
    "c1a7afb6e1454f5cbe1ddb5262160e43": {
     "model_module": "@jupyter-widgets/base",
     "model_name": "LayoutModel",
     "state": {
      "_model_module": "@jupyter-widgets/base",
      "_model_module_version": "1.2.0",
      "_model_name": "LayoutModel",
      "_view_count": null,
      "_view_module": "@jupyter-widgets/base",
      "_view_module_version": "1.2.0",
      "_view_name": "LayoutView",
      "align_content": null,
      "align_items": null,
      "align_self": null,
      "border": null,
      "bottom": null,
      "display": null,
      "flex": null,
      "flex_flow": null,
      "grid_area": null,
      "grid_auto_columns": null,
      "grid_auto_flow": null,
      "grid_auto_rows": null,
      "grid_column": null,
      "grid_gap": null,
      "grid_row": null,
      "grid_template_areas": null,
      "grid_template_columns": null,
      "grid_template_rows": null,
      "height": null,
      "justify_content": null,
      "justify_items": null,
      "left": null,
      "margin": null,
      "max_height": null,
      "max_width": null,
      "min_height": null,
      "min_width": null,
      "object_fit": null,
      "object_position": null,
      "order": null,
      "overflow": null,
      "overflow_x": null,
      "overflow_y": null,
      "padding": null,
      "right": null,
      "top": null,
      "visibility": null,
      "width": null
     }
    },
    "c2e860f4c9274d69a24ac973450488ab": {
     "model_module": "@jupyter-widgets/controls",
     "model_name": "FloatProgressModel",
     "state": {
      "_dom_classes": [],
      "_model_module": "@jupyter-widgets/controls",
      "_model_module_version": "1.5.0",
      "_model_name": "FloatProgressModel",
      "_view_count": null,
      "_view_module": "@jupyter-widgets/controls",
      "_view_module_version": "1.5.0",
      "_view_name": "ProgressView",
      "bar_style": "success",
      "description": "",
      "description_tooltip": null,
      "layout": "IPY_MODEL_f8598dfb97374a40b7feafb0b0f4ddb4",
      "max": 1,
      "min": 0,
      "orientation": "horizontal",
      "style": "IPY_MODEL_56bc9290b7e44f14a0a2424149237b02",
      "value": 1
     }
    },
    "c50c40dd61694621ad4d77a17cd23e83": {
     "model_module": "@jupyter-widgets/base",
     "model_name": "LayoutModel",
     "state": {
      "_model_module": "@jupyter-widgets/base",
      "_model_module_version": "1.2.0",
      "_model_name": "LayoutModel",
      "_view_count": null,
      "_view_module": "@jupyter-widgets/base",
      "_view_module_version": "1.2.0",
      "_view_name": "LayoutView",
      "align_content": null,
      "align_items": null,
      "align_self": null,
      "border": null,
      "bottom": null,
      "display": null,
      "flex": null,
      "flex_flow": null,
      "grid_area": null,
      "grid_auto_columns": null,
      "grid_auto_flow": null,
      "grid_auto_rows": null,
      "grid_column": null,
      "grid_gap": null,
      "grid_row": null,
      "grid_template_areas": null,
      "grid_template_columns": null,
      "grid_template_rows": null,
      "height": null,
      "justify_content": null,
      "justify_items": null,
      "left": null,
      "margin": null,
      "max_height": null,
      "max_width": null,
      "min_height": null,
      "min_width": null,
      "object_fit": null,
      "object_position": null,
      "order": null,
      "overflow": null,
      "overflow_x": null,
      "overflow_y": null,
      "padding": null,
      "right": null,
      "top": null,
      "visibility": null,
      "width": null
     }
    },
    "c818741273c24346a2416c083cb45fd9": {
     "model_module": "@jupyter-widgets/controls",
     "model_name": "HBoxModel",
     "state": {
      "_dom_classes": [],
      "_model_module": "@jupyter-widgets/controls",
      "_model_module_version": "1.5.0",
      "_model_name": "HBoxModel",
      "_view_count": null,
      "_view_module": "@jupyter-widgets/controls",
      "_view_module_version": "1.5.0",
      "_view_name": "HBoxView",
      "box_style": "",
      "children": [
       "IPY_MODEL_735a630c61864c8d875e3a4675c8eadb",
       "IPY_MODEL_ab0e4999696944468a5efbac8f0e1ed1"
      ],
      "layout": "IPY_MODEL_a10c744893b84476aaa35f69e349c938"
     }
    },
    "cb2a2769fa3d431aa5abbd8076f012c8": {
     "model_module": "@jupyter-widgets/controls",
     "model_name": "ProgressStyleModel",
     "state": {
      "_model_module": "@jupyter-widgets/controls",
      "_model_module_version": "1.5.0",
      "_model_name": "ProgressStyleModel",
      "_view_count": null,
      "_view_module": "@jupyter-widgets/base",
      "_view_module_version": "1.2.0",
      "_view_name": "StyleView",
      "bar_color": null,
      "description_width": "initial"
     }
    },
    "cfe6d0ce4b114f9eb73effc53021b622": {
     "model_module": "@jupyter-widgets/controls",
     "model_name": "FloatProgressModel",
     "state": {
      "_dom_classes": [],
      "_model_module": "@jupyter-widgets/controls",
      "_model_module_version": "1.5.0",
      "_model_name": "FloatProgressModel",
      "_view_count": null,
      "_view_module": "@jupyter-widgets/controls",
      "_view_module_version": "1.5.0",
      "_view_name": "ProgressView",
      "bar_style": "success",
      "description": "",
      "description_tooltip": null,
      "layout": "IPY_MODEL_325cb4e49fed4cce8086e8b99d4d6335",
      "max": 1,
      "min": 0,
      "orientation": "horizontal",
      "style": "IPY_MODEL_419d154be284408b8552cdc8eaa54d80",
      "value": 1
     }
    },
    "d055235226564c1bb79e4e9f2a30931e": {
     "model_module": "@jupyter-widgets/controls",
     "model_name": "FloatProgressModel",
     "state": {
      "_dom_classes": [],
      "_model_module": "@jupyter-widgets/controls",
      "_model_module_version": "1.5.0",
      "_model_name": "FloatProgressModel",
      "_view_count": null,
      "_view_module": "@jupyter-widgets/controls",
      "_view_module_version": "1.5.0",
      "_view_name": "ProgressView",
      "bar_style": "success",
      "description": "100%",
      "description_tooltip": null,
      "layout": "IPY_MODEL_1e28c27e7e324153a6c44dd1de8392ad",
      "max": 10,
      "min": 0,
      "orientation": "horizontal",
      "style": "IPY_MODEL_101134c5bc9244159e427ab4d20cd95f",
      "value": 10
     }
    },
    "d0fd425f427c413eaff62c5e22389cb3": {
     "model_module": "@jupyter-widgets/controls",
     "model_name": "HTMLModel",
     "state": {
      "_dom_classes": [],
      "_model_module": "@jupyter-widgets/controls",
      "_model_module_version": "1.5.0",
      "_model_name": "HTMLModel",
      "_view_count": null,
      "_view_module": "@jupyter-widgets/controls",
      "_view_module_version": "1.5.0",
      "_view_name": "HTMLView",
      "description": "",
      "description_tooltip": null,
      "layout": "IPY_MODEL_0e5bbd408e87443d9a866a187d2c9f5e",
      "placeholder": "​",
      "style": "IPY_MODEL_1f1fd6bb8f3d458a93ca1441899f89cc",
      "value": " 234/? [00:05&lt;00:00, 42.75it/s]"
     }
    },
    "d29d6e20d635438bb682e4f36789020e": {
     "model_module": "@jupyter-widgets/controls",
     "model_name": "HTMLModel",
     "state": {
      "_dom_classes": [],
      "_model_module": "@jupyter-widgets/controls",
      "_model_module_version": "1.5.0",
      "_model_name": "HTMLModel",
      "_view_count": null,
      "_view_module": "@jupyter-widgets/controls",
      "_view_module_version": "1.5.0",
      "_view_name": "HTMLView",
      "description": "",
      "description_tooltip": null,
      "layout": "IPY_MODEL_a49c980d7a294077a01245de833e881f",
      "placeholder": "​",
      "style": "IPY_MODEL_a4887e7d61bc41e987c6fee6c548569d",
      "value": " 234/? [00:05&lt;00:00, 46.61it/s]"
     }
    },
    "d576eaafd63d4c19a6b904dc7c24ce12": {
     "model_module": "@jupyter-widgets/base",
     "model_name": "LayoutModel",
     "state": {
      "_model_module": "@jupyter-widgets/base",
      "_model_module_version": "1.2.0",
      "_model_name": "LayoutModel",
      "_view_count": null,
      "_view_module": "@jupyter-widgets/base",
      "_view_module_version": "1.2.0",
      "_view_name": "LayoutView",
      "align_content": null,
      "align_items": null,
      "align_self": null,
      "border": null,
      "bottom": null,
      "display": null,
      "flex": null,
      "flex_flow": null,
      "grid_area": null,
      "grid_auto_columns": null,
      "grid_auto_flow": null,
      "grid_auto_rows": null,
      "grid_column": null,
      "grid_gap": null,
      "grid_row": null,
      "grid_template_areas": null,
      "grid_template_columns": null,
      "grid_template_rows": null,
      "height": null,
      "justify_content": null,
      "justify_items": null,
      "left": null,
      "margin": null,
      "max_height": null,
      "max_width": null,
      "min_height": null,
      "min_width": null,
      "object_fit": null,
      "object_position": null,
      "order": null,
      "overflow": null,
      "overflow_x": null,
      "overflow_y": null,
      "padding": null,
      "right": null,
      "top": null,
      "visibility": null,
      "width": null
     }
    },
    "d71497e5556d4bb2a6af13bd553e7cba": {
     "model_module": "@jupyter-widgets/controls",
     "model_name": "HTMLModel",
     "state": {
      "_dom_classes": [],
      "_model_module": "@jupyter-widgets/controls",
      "_model_module_version": "1.5.0",
      "_model_name": "HTMLModel",
      "_view_count": null,
      "_view_module": "@jupyter-widgets/controls",
      "_view_module_version": "1.5.0",
      "_view_name": "HTMLView",
      "description": "",
      "description_tooltip": null,
      "layout": "IPY_MODEL_5947bf33267c4d81880bd1f5c8c39133",
      "placeholder": "​",
      "style": "IPY_MODEL_6117324b531f4ed3af12ef4438070c64",
      "value": " 234/? [00:05&lt;00:00, 44.34it/s]"
     }
    },
    "d718c96b4b474525bc415b76a4485ae9": {
     "model_module": "@jupyter-widgets/controls",
     "model_name": "HBoxModel",
     "state": {
      "_dom_classes": [],
      "_model_module": "@jupyter-widgets/controls",
      "_model_module_version": "1.5.0",
      "_model_name": "HBoxModel",
      "_view_count": null,
      "_view_module": "@jupyter-widgets/controls",
      "_view_module_version": "1.5.0",
      "_view_name": "HBoxView",
      "box_style": "",
      "children": [
       "IPY_MODEL_cfe6d0ce4b114f9eb73effc53021b622",
       "IPY_MODEL_bbf13e5e346b44bf8d77bef9f24f0a30"
      ],
      "layout": "IPY_MODEL_e2c8362a3d0b410797eb38dfd9ee52e4"
     }
    },
    "d7680cf89f204720ad41d16d1b5de5fa": {
     "model_module": "@jupyter-widgets/controls",
     "model_name": "FloatProgressModel",
     "state": {
      "_dom_classes": [],
      "_model_module": "@jupyter-widgets/controls",
      "_model_module_version": "1.5.0",
      "_model_name": "FloatProgressModel",
      "_view_count": null,
      "_view_module": "@jupyter-widgets/controls",
      "_view_module_version": "1.5.0",
      "_view_name": "ProgressView",
      "bar_style": "success",
      "description": "",
      "description_tooltip": null,
      "layout": "IPY_MODEL_ae742550109c43e9910f0718b6c90376",
      "max": 1,
      "min": 0,
      "orientation": "horizontal",
      "style": "IPY_MODEL_dd52ad0c25bd4deabe5f833c9c8a7272",
      "value": 1
     }
    },
    "dd52ad0c25bd4deabe5f833c9c8a7272": {
     "model_module": "@jupyter-widgets/controls",
     "model_name": "ProgressStyleModel",
     "state": {
      "_model_module": "@jupyter-widgets/controls",
      "_model_module_version": "1.5.0",
      "_model_name": "ProgressStyleModel",
      "_view_count": null,
      "_view_module": "@jupyter-widgets/base",
      "_view_module_version": "1.2.0",
      "_view_name": "StyleView",
      "bar_color": null,
      "description_width": "initial"
     }
    },
    "de65e5f3f5a141d686978d42ffee873b": {
     "model_module": "@jupyter-widgets/controls",
     "model_name": "ProgressStyleModel",
     "state": {
      "_model_module": "@jupyter-widgets/controls",
      "_model_module_version": "1.5.0",
      "_model_name": "ProgressStyleModel",
      "_view_count": null,
      "_view_module": "@jupyter-widgets/base",
      "_view_module_version": "1.2.0",
      "_view_name": "StyleView",
      "bar_color": null,
      "description_width": "initial"
     }
    },
    "e2467ed82458495c89a56e36cceff1ab": {
     "model_module": "@jupyter-widgets/base",
     "model_name": "LayoutModel",
     "state": {
      "_model_module": "@jupyter-widgets/base",
      "_model_module_version": "1.2.0",
      "_model_name": "LayoutModel",
      "_view_count": null,
      "_view_module": "@jupyter-widgets/base",
      "_view_module_version": "1.2.0",
      "_view_name": "LayoutView",
      "align_content": null,
      "align_items": null,
      "align_self": null,
      "border": null,
      "bottom": null,
      "display": null,
      "flex": null,
      "flex_flow": null,
      "grid_area": null,
      "grid_auto_columns": null,
      "grid_auto_flow": null,
      "grid_auto_rows": null,
      "grid_column": null,
      "grid_gap": null,
      "grid_row": null,
      "grid_template_areas": null,
      "grid_template_columns": null,
      "grid_template_rows": null,
      "height": null,
      "justify_content": null,
      "justify_items": null,
      "left": null,
      "margin": null,
      "max_height": null,
      "max_width": null,
      "min_height": null,
      "min_width": null,
      "object_fit": null,
      "object_position": null,
      "order": null,
      "overflow": null,
      "overflow_x": null,
      "overflow_y": null,
      "padding": null,
      "right": null,
      "top": null,
      "visibility": null,
      "width": null
     }
    },
    "e2c8362a3d0b410797eb38dfd9ee52e4": {
     "model_module": "@jupyter-widgets/base",
     "model_name": "LayoutModel",
     "state": {
      "_model_module": "@jupyter-widgets/base",
      "_model_module_version": "1.2.0",
      "_model_name": "LayoutModel",
      "_view_count": null,
      "_view_module": "@jupyter-widgets/base",
      "_view_module_version": "1.2.0",
      "_view_name": "LayoutView",
      "align_content": null,
      "align_items": null,
      "align_self": null,
      "border": null,
      "bottom": null,
      "display": null,
      "flex": null,
      "flex_flow": null,
      "grid_area": null,
      "grid_auto_columns": null,
      "grid_auto_flow": null,
      "grid_auto_rows": null,
      "grid_column": null,
      "grid_gap": null,
      "grid_row": null,
      "grid_template_areas": null,
      "grid_template_columns": null,
      "grid_template_rows": null,
      "height": null,
      "justify_content": null,
      "justify_items": null,
      "left": null,
      "margin": null,
      "max_height": null,
      "max_width": null,
      "min_height": null,
      "min_width": null,
      "object_fit": null,
      "object_position": null,
      "order": null,
      "overflow": null,
      "overflow_x": null,
      "overflow_y": null,
      "padding": null,
      "right": null,
      "top": null,
      "visibility": null,
      "width": null
     }
    },
    "eab7e28d98e742bc9b7795ba60497947": {
     "model_module": "@jupyter-widgets/controls",
     "model_name": "DescriptionStyleModel",
     "state": {
      "_model_module": "@jupyter-widgets/controls",
      "_model_module_version": "1.5.0",
      "_model_name": "DescriptionStyleModel",
      "_view_count": null,
      "_view_module": "@jupyter-widgets/base",
      "_view_module_version": "1.2.0",
      "_view_name": "StyleView",
      "description_width": ""
     }
    },
    "ef99dcffeace48d59ea5bfb3536aca3d": {
     "model_module": "@jupyter-widgets/controls",
     "model_name": "DescriptionStyleModel",
     "state": {
      "_model_module": "@jupyter-widgets/controls",
      "_model_module_version": "1.5.0",
      "_model_name": "DescriptionStyleModel",
      "_view_count": null,
      "_view_module": "@jupyter-widgets/base",
      "_view_module_version": "1.2.0",
      "_view_name": "StyleView",
      "description_width": ""
     }
    },
    "f8598dfb97374a40b7feafb0b0f4ddb4": {
     "model_module": "@jupyter-widgets/base",
     "model_name": "LayoutModel",
     "state": {
      "_model_module": "@jupyter-widgets/base",
      "_model_module_version": "1.2.0",
      "_model_name": "LayoutModel",
      "_view_count": null,
      "_view_module": "@jupyter-widgets/base",
      "_view_module_version": "1.2.0",
      "_view_name": "LayoutView",
      "align_content": null,
      "align_items": null,
      "align_self": null,
      "border": null,
      "bottom": null,
      "display": null,
      "flex": null,
      "flex_flow": null,
      "grid_area": null,
      "grid_auto_columns": null,
      "grid_auto_flow": null,
      "grid_auto_rows": null,
      "grid_column": null,
      "grid_gap": null,
      "grid_row": null,
      "grid_template_areas": null,
      "grid_template_columns": null,
      "grid_template_rows": null,
      "height": null,
      "justify_content": null,
      "justify_items": null,
      "left": null,
      "margin": null,
      "max_height": null,
      "max_width": null,
      "min_height": null,
      "min_width": null,
      "object_fit": null,
      "object_position": null,
      "order": null,
      "overflow": null,
      "overflow_x": null,
      "overflow_y": null,
      "padding": null,
      "right": null,
      "top": null,
      "visibility": null,
      "width": null
     }
    },
    "fd1b18256b474351823c6d7ef25204d6": {
     "model_module": "@jupyter-widgets/controls",
     "model_name": "HBoxModel",
     "state": {
      "_dom_classes": [],
      "_model_module": "@jupyter-widgets/controls",
      "_model_module_version": "1.5.0",
      "_model_name": "HBoxModel",
      "_view_count": null,
      "_view_module": "@jupyter-widgets/controls",
      "_view_module_version": "1.5.0",
      "_view_name": "HBoxView",
      "box_style": "",
      "children": [
       "IPY_MODEL_c2e860f4c9274d69a24ac973450488ab",
       "IPY_MODEL_890ee268056b42a09e20ffaa3b0b862d"
      ],
      "layout": "IPY_MODEL_c50c40dd61694621ad4d77a17cd23e83"
     }
    },
    "fd6835af6de349f69990ba8e1291635a": {
     "model_module": "@jupyter-widgets/controls",
     "model_name": "FloatProgressModel",
     "state": {
      "_dom_classes": [],
      "_model_module": "@jupyter-widgets/controls",
      "_model_module_version": "1.5.0",
      "_model_name": "FloatProgressModel",
      "_view_count": null,
      "_view_module": "@jupyter-widgets/controls",
      "_view_module_version": "1.5.0",
      "_view_name": "ProgressView",
      "bar_style": "success",
      "description": "",
      "description_tooltip": null,
      "layout": "IPY_MODEL_20273edb68e649689061fd3ed0c91aab",
      "max": 1,
      "min": 0,
      "orientation": "horizontal",
      "style": "IPY_MODEL_4f7e259c5d6b4989824dd7893a38421c",
      "value": 1
     }
    },
    "ff01358995dd47c49c0a0f613788d870": {
     "model_module": "@jupyter-widgets/base",
     "model_name": "LayoutModel",
     "state": {
      "_model_module": "@jupyter-widgets/base",
      "_model_module_version": "1.2.0",
      "_model_name": "LayoutModel",
      "_view_count": null,
      "_view_module": "@jupyter-widgets/base",
      "_view_module_version": "1.2.0",
      "_view_name": "LayoutView",
      "align_content": null,
      "align_items": null,
      "align_self": null,
      "border": null,
      "bottom": null,
      "display": null,
      "flex": null,
      "flex_flow": null,
      "grid_area": null,
      "grid_auto_columns": null,
      "grid_auto_flow": null,
      "grid_auto_rows": null,
      "grid_column": null,
      "grid_gap": null,
      "grid_row": null,
      "grid_template_areas": null,
      "grid_template_columns": null,
      "grid_template_rows": null,
      "height": null,
      "justify_content": null,
      "justify_items": null,
      "left": null,
      "margin": null,
      "max_height": null,
      "max_width": null,
      "min_height": null,
      "min_width": null,
      "object_fit": null,
      "object_position": null,
      "order": null,
      "overflow": null,
      "overflow_x": null,
      "overflow_y": null,
      "padding": null,
      "right": null,
      "top": null,
      "visibility": null,
      "width": null
     }
    }
   }
  }
 },
 "nbformat": 4,
 "nbformat_minor": 1
}
