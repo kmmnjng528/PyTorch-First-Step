{
 "cells": [
  {
   "cell_type": "markdown",
   "metadata": {},
   "source": [
    "# <center>『 파이토치 첫걸음 』</center>"
   ]
  },
  {
   "cell_type": "markdown",
   "metadata": {},
   "source": [
    "<img src=\"https://www.hanbit.co.kr/data/books/B7818450418_l.jpg\" width=30%>"
   ]
  },
  {
   "cell_type": "markdown",
   "metadata": {},
   "source": [
    "---"
   ]
  },
  {
   "cell_type": "markdown",
   "metadata": {},
   "source": [
    "# 2장. 파이토치"
   ]
  },
  {
   "cell_type": "markdown",
   "metadata": {},
   "source": [
    "---"
   ]
  },
  {
   "cell_type": "markdown",
   "metadata": {
    "toc": true
   },
   "source": [
    "<h1>Table of Contents<span class=\"tocSkip\"></span></h1>\n",
    "<div class=\"toc\"><ul class=\"toc-item\"><li><span><a href=\"#파이토치는-무엇이고-왜-써야-하는가\" data-toc-modified-id=\"파이토치는-무엇이고-왜-써야-하는가-1\"><span class=\"toc-item-num\">1&nbsp;&nbsp;</span>파이토치는 무엇이고 왜 써야 하는가</a></span></li><li><span><a href=\"#다른-프레임워크와의-비교\" data-toc-modified-id=\"다른-프레임워크와의-비교-2\"><span class=\"toc-item-num\">2&nbsp;&nbsp;</span>다른 프레임워크와의 비교</a></span></li><li><span><a href=\"#설치하는-법\" data-toc-modified-id=\"설치하는-법-3\"><span class=\"toc-item-num\">3&nbsp;&nbsp;</span>설치하는 법</a></span></li></ul></div>"
   ]
  },
  {
   "cell_type": "markdown",
   "metadata": {},
   "source": [
    "--- "
   ]
  },
  {
   "cell_type": "markdown",
   "metadata": {},
   "source": [
    "## 파이토치는 무엇이고 왜 써야 하는가"
   ]
  },
  {
   "cell_type": "markdown",
   "metadata": {},
   "source": [
    "**파이토치(PyTorch)**는 2017년 초에 공개된 딥러닝 프레임워크로 연구자들이 쉽게 GPU를 활용하여 인공 신경망 모델을 만들고 학습시킬 수 있게 도와줍니다. 파이토치는 파이썬으로 작성되어 파이썬의 언어 특징을 많이 가지고 있습니다."
   ]
  },
  {
   "cell_type": "markdown",
   "metadata": {},
   "source": [
    "## 다른 프레임워크와의 비교"
   ]
  },
  {
   "cell_type": "markdown",
   "metadata": {},
   "source": [
    "**< 넘파이(NumPy) 라이브러리와의 비교 >**\n",
    "\n",
    "x, y, z 세 변수에 대해 학습하는 간단한 예를 생각해보면 기울기를 계산하기 위해 연산 그래프를 쭉 따라서 미분을 해야 합니다. 이때 넘파이만을 사용한다면 모든 미분식을 직접 계산하고 코드로 작성해야 하므로 변수 하나당 두 줄씩 여섯 줄이 필요합니다. 반면 파이토치를 사용하면 이 과정을 자동으로 계산해주기 때문에 backward()라는 함수를 한 번 호출해주면 계산이 끝납니다.  \n",
    "\n",
    "또한 넘파이만으로는 GPU로 값들을 보내 연산을 돌리고 다시 받는 것이 불가능합니다. 이에 비해 파이토치는 내부적으로 CUDA, cuDNN이라는 API를 통해 GPU를 연산에 사용할 수 있고, 이로 인해 생기는 연산 속도의 차이는 엄청납니다. CUDA와 cuDNN을 둘 다 사용하면 연산 속도가 CPU의 15배 이상이 된다고 알려져 있습니다."
   ]
  },
  {
   "cell_type": "markdown",
   "metadata": {},
   "source": [
    "**< 텐서플로(TensorFlow)와의 비교 >**\n",
    "\n",
    "텐서플로와 파이토치는 둘 다 연산에 GPU를 이용하는 프레임워크입니다. **텐서플로**는 연산 그래프를 먼저 만들고 실제 연산할 때 값을 전달하여 결과를 얻는 **Define and Run** 방식이고, **파이토치**는 그래프를 만듦과 동시에 값이 할당되는 **Define by Run**방식입니다.  \n",
    "이에 텐서플로는 사람이 직관적으로 받아들이기 어려울 수 있으며 코드 길이가 길어집니다. 또한 전반적으로 속도 면에서 파이토치는 텐서플로보다 빠르거나, 적어도 텐서플로에 밀리지 않는다고 할 수 있습니다."
   ]
  },
  {
   "cell_type": "markdown",
   "metadata": {},
   "source": [
    "## 설치하는 법"
   ]
  },
  {
   "cell_type": "code",
   "execution_count": 1,
   "metadata": {
    "ExecuteTime": {
     "end_time": "2021-02-24T05:44:05.733036Z",
     "start_time": "2021-02-24T05:44:05.729046Z"
    }
   },
   "outputs": [],
   "source": [
    "# pass"
   ]
  }
 ],
 "metadata": {
  "kernelspec": {
   "display_name": "Python 3",
   "language": "python",
   "name": "python3"
  },
  "language_info": {
   "codemirror_mode": {
    "name": "ipython",
    "version": 3
   },
   "file_extension": ".py",
   "mimetype": "text/x-python",
   "name": "python",
   "nbconvert_exporter": "python",
   "pygments_lexer": "ipython3",
   "version": "3.7.6"
  },
  "latex_envs": {
   "LaTeX_envs_menu_present": true,
   "autoclose": false,
   "autocomplete": true,
   "bibliofile": "biblio.bib",
   "cite_by": "apalike",
   "current_citInitial": 1,
   "eqLabelWithNumbers": true,
   "eqNumInitial": 1,
   "hotkeys": {
    "equation": "Ctrl-E",
    "itemize": "Ctrl-I"
   },
   "labels_anchors": false,
   "latex_user_defs": false,
   "report_style_numbering": false,
   "user_envs_cfg": false
  },
  "toc": {
   "base_numbering": 1,
   "nav_menu": {},
   "number_sections": true,
   "sideBar": true,
   "skip_h1_title": true,
   "title_cell": "Table of Contents",
   "title_sidebar": "Contents",
   "toc_cell": true,
   "toc_position": {
    "height": "calc(100% - 180px)",
    "left": "10px",
    "top": "150px",
    "width": "180px"
   },
   "toc_section_display": true,
   "toc_window_display": true
  },
  "varInspector": {
   "cols": {
    "lenName": 16,
    "lenType": 16,
    "lenVar": 40
   },
   "kernels_config": {
    "python": {
     "delete_cmd_postfix": "",
     "delete_cmd_prefix": "del ",
     "library": "var_list.py",
     "varRefreshCmd": "print(var_dic_list())"
    },
    "r": {
     "delete_cmd_postfix": ") ",
     "delete_cmd_prefix": "rm(",
     "library": "var_list.r",
     "varRefreshCmd": "cat(var_dic_list()) "
    }
   },
   "types_to_exclude": [
    "module",
    "function",
    "builtin_function_or_method",
    "instance",
    "_Feature"
   ],
   "window_display": false
  }
 },
 "nbformat": 4,
 "nbformat_minor": 4
}
